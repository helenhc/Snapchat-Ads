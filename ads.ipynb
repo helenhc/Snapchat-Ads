{
 "cells": [
  {
   "cell_type": "markdown",
   "metadata": {},
   "source": [
    "# Summary of Findings\n",
    "\n",
    "### Introduction\n",
    "Prediction: We will try to predict the reach, or the number of views, of an ad. \n",
    "\n",
    "This is a regression problem. \n",
    "\n",
    "The target variable is \"Impressions\" because we want to see how many people watched a particular ad or not, and the higher number of impressions means the more reach it has. This is the best column to choose for our predition problem. \n",
    "\n",
    "We are using accuracy as our objective since we are dealing with predicting a quantitative number (views). To do this, we chose to use r-squared as our evaluation metric because we are using regression in our model. We ran our models multiple times because it varies a lot, so to get a more accurate evaluation metric, we took the mean of all the r-squares we got in our trials.\n",
    "\n",
    "### Baseline Model\n",
    "In this baseline model, we use all the features from the original dataset except 'Targeting Connection Type', \"Targeting Carrier (ISP)\" because they did not have any values at all. We also did not include \"Impressions\" in our training model because that is our target variable. Therefore, there were 24 features. There were 23 categorical features and 1 quantitative feature.\n",
    "\n",
    "OneHotEncoder is ideal, because we use easily use it on all of the categorical columns. The function of OHE is to \"Encode categorical features as a one-hot numeric array\", so we can have numerical values onto the qualitiative values for easy calculations and predictions within the data. For both numerical and categorical columns, we used Simple Imputer in case there were any missing values that we had missed. \n",
    "\n",
    "Since it is just a baseline model, we did not focus on separating between nominal or ordinal columns because we end up dropping a lot of the columns later in our final model. But we don't differentiate it in our final model either, because we only use either quantitative or nominal data. \n",
    "\n",
    "r-squared mean: -5.158904576734167e+16\n",
    "\n",
    "Based on the evaluation metric as well as referencing our pipeline, we anticipate the baseline model to not be a very good predictor of the number of views. The OHE wthin the categorical columns is decent, but it does not do anything within the quantitative columns except impute it with a neutral value of 0, which can possibly bias the columns in the direction that we don't want to go in. \n",
    "\n",
    "### Final Model\n",
    "Impressions, Duration, and Spend are our quantitative columns. StartDate, EndDate, Gender, CountryCode, and spending_brackets are our qualitative columns, but more specifically, our nominal data. We are not working with any ordinal data. Although StartDate and EndDate may be a bit blurry on the classification of being nominal or ordinal, we have categorized these two columns as nominal, which is explained in a bit more detail later. We chose to work with these columns specifically because we considered these to contain the most valuable information. StartDate and EndDate might be significant, concerning the exact time of year that the ad was being displayed. For example, if it was aired durig the holiday season, there might be more impressions because more people are out of school, on vacation and not working, etc. As for gender, if there were restrictions on one gender, it cuts off half the general population, which will likely greatly reduce the amount of views an ad has. For CountryCode, there are vastly different population numbers varying by country. The US may have way more impressions than a smaller and less populated country, like Korea for example. It also brings into context that many people around the world may not utilize Snapchat as one of their main sources of social media- in other words, Snapchat may not be as popular in other countries as it is in the United States. \n",
    "\n",
    "We created a new feature, Duration, which is the time in hours, the ad was aired on Snapchat. We categorized StartDate and EndDate as nominal categories, as we believe it represents no ordering. But by being able to subtract the EndDate and the StartDate, we can develop values that do have specific orderings to them; e.g. ads that aired for 5 hours is definitely shorter than ones that aired for 25 hours. But this new column, Duration, is a good addition to our features because it is a quantitative column as it is numbers that we can do mathematical applications with, e.g. mean, median, quartiles, etc. \n",
    "\n",
    "We created a new feature called spending_brackets. This is a binary column, in which we have categorized what a 'high' or 'low' spending is. We were able to define this threshold by graphing the distribution (the histogram above). By having a feature with a more definitive answer on what we consider a high or low spending value, we believe this will enhance our predictions. \n",
    "\n",
    "In addition to the functions that we used within our baseline model, we also included PCA onto our categorical columns as well as QuantileTransformer within our numerical columns. \n",
    "PCA is significant in increasing our accuracy of our predictions because it is able to project the values within the categorical columns into a lower dimensional space if needed by using Singular Value Decomposition (SVD). This can be especially important, especially to centralize the values coming from the categorical columns, even if we ourselves may not necessarily see it. As for QuantileTransformer, it allows the numerical columns to follow a bell curved shape. \n",
    "\n",
    "We had set our baseline to a LinearRegression model, but later progressed to using a RandomForestRegressor because we thought that this would work better than a LinearRegression model because it is able to use the averages of our features to be able to produce better predictions. Another plus is that it is able to control, to some extent, over-fitting, which was an issue we were worried about. \n",
    "\n",
    "r-squared mean: 0.6829500204478698\n",
    "\n",
    "The parameter that ended up performing the best was the high or low spending feature that we newly engineered. It gave us a r-squared of 0.7858. Our newly engineered feature duration also performed very well, it gave us a r-squared of 0.75247.\n",
    "\n",
    "### Fairness Evaluation\n",
    "To evaluate the fairness of our final model, we decided to see if our model is more favorable towards high or low impressions. To measure how well our model is performing for either high or low impressions, we chose the measure of RMSE. This gives us a good measure of how far our prediction is from the actual observed data. \n",
    "\n",
    "Null hypothesis: Our final model predicts high and low impressions at an equal accuracy.\n",
    "\n",
    "Alternative hypothesis: Our final model predicts low impressions better than high impressions.\n",
    "\n",
    "To test our null hypothesis we will be using RMSE as the test statistic and we will set our significance value to 0.05.\n",
    "\n",
    "The p-value we got from running 25 trials is 0. This means that in 25 trials, the model is predicting low impressions better than it is high impressions in all trials. Therefore, we reject our null hypothesis and our model may not be fair and is favorable towards predicting low impressions."
   ]
  },
  {
   "cell_type": "markdown",
   "metadata": {},
   "source": [
    "# Code"
   ]
  },
  {
   "cell_type": "code",
   "execution_count": 38,
   "metadata": {},
   "outputs": [],
   "source": [
    "import matplotlib.pyplot as plt\n",
    "import numpy as np\n",
    "import os\n",
    "import pandas as pd\n",
    "import seaborn as sns\n",
    "%matplotlib inline\n",
    "%config InlineBackend.figure_format = 'retina'  # Higher resolution figures\n",
    "\n",
    "from sklearn.impute import SimpleImputer\n",
    "from sklearn.decomposition import PCA\n",
    "from sklearn.linear_model import LinearRegression\n",
    "from sklearn.preprocessing import OneHotEncoder\n",
    "\n",
    "from sklearn.pipeline import Pipeline\n",
    "from sklearn.compose import ColumnTransformer\n",
    "from sklearn.preprocessing import FunctionTransformer\n",
    "from sklearn.model_selection import train_test_split\n",
    "from datetime import datetime\n",
    "from sklearn.ensemble import RandomForestRegressor\n",
    "import re\n",
    "from sklearn import metrics\n",
    "import datetime as dt \n",
    "from sklearn.preprocessing import QuantileTransformer\n"
   ]
  },
  {
   "cell_type": "code",
   "execution_count": 39,
   "metadata": {
    "scrolled": true
   },
   "outputs": [
    {
     "name": "stderr",
     "output_type": "stream",
     "text": [
      "/Users/cindy/opt/anaconda3/lib/python3.7/site-packages/ipykernel_launcher.py:6: SettingWithCopyWarning: \n",
      "A value is trying to be set on a copy of a slice from a DataFrame.\n",
      "Try using .loc[row_indexer,col_indexer] = value instead\n",
      "\n",
      "See the caveats in the documentation: http://pandas.pydata.org/pandas-docs/stable/user_guide/indexing.html#returning-a-view-versus-a-copy\n",
      "  \n",
      "/Users/cindy/opt/anaconda3/lib/python3.7/site-packages/ipykernel_launcher.py:7: SettingWithCopyWarning: \n",
      "A value is trying to be set on a copy of a slice from a DataFrame.\n",
      "Try using .loc[row_indexer,col_indexer] = value instead\n",
      "\n",
      "See the caveats in the documentation: http://pandas.pydata.org/pandas-docs/stable/user_guide/indexing.html#returning-a-view-versus-a-copy\n",
      "  import sys\n"
     ]
    }
   ],
   "source": [
    "eighteen = pd.read_csv(\"2018.csv\")\n",
    "nineteen = pd.read_csv(\"2019.csv\")\n",
    "result = pd.concat([eighteen, nineteen])\n",
    "result = result.reset_index(drop=True)\n",
    "dates = result[['StartDate', 'EndDate', 'CreativeUrl']]\n",
    "dates['StartDate'] = dates['StartDate'].str[:-1]\n",
    "dates['EndDate'] = dates['EndDate'].str[:-1]\n",
    "# result.columns"
   ]
  },
  {
   "cell_type": "markdown",
   "metadata": {},
   "source": [
    "### Baseline Model"
   ]
  },
  {
   "cell_type": "code",
   "execution_count": 40,
   "metadata": {},
   "outputs": [],
   "source": [
    "# changing all dates to datetime objects\n",
    "result['StartDate'] = result['StartDate'].str[:-1]\n",
    "result['EndDate'] = result['EndDate'].str[:-1]\n",
    "\n",
    "# Segments\n",
    "result['Segments'] = result['Segments'].fillna(\"Not Provided by Advertiser\")\n",
    "\n",
    "# these cols need to all be filled nans with the respective country\n",
    "country_cols = [\"RegionID\", \"ElectoralDistrictID\",\"LatLongRad\",\"MetroID\",\"Targeting Geo - Postal Code\"]\n",
    "\n",
    "for i in range(len(country_cols)):\n",
    "    result[country_cols[i]] = result[country_cols[i]].fillna(result[\"CountryCode\"])\n",
    "\n",
    "# these cols need to all be filled nans with just string \"all\"\n",
    "all_cols = [\"Interests\",\"Language\",\"AdvancedDemographics\",\"Gender\",\"AgeBracket\",\"OsType\"]\n",
    "    \n",
    "for i in range(len(all_cols)):\n",
    "    result[all_cols[i]] = result[all_cols[i]].fillna(\"All\")\n",
    "    \n",
    "nan_cols = ['CandidateBallotInformation', 'LocationType', 'CreativeProperties']\n",
    "for i in range(len(nan_cols)): \n",
    "    result[nan_cols[i]] = result[nan_cols[i]].fillna(\"Not provided\")\n",
    "    \n",
    "# EndDate                         fill with \"Present\" or current time\n",
    "result['EndDate'] = str(result['EndDate'].fillna(datetime.utcnow()))\n",
    "# Gender                          fill with \"All\"\n",
    "result['Gender'] = result['Gender'].fillna(\"All\")\n",
    "result = result.drop(columns=['Targeting Connection Type', \"Targeting Carrier (ISP)\"])\n",
    "#CandidateBallotInformation; LocationType; Creative Properties"
   ]
  },
  {
   "cell_type": "code",
   "execution_count": 54,
   "metadata": {},
   "outputs": [],
   "source": [
    "X = result.drop(['Impressions'], axis=1)\n",
    "y = result.Impressions"
   ]
  },
  {
   "cell_type": "code",
   "execution_count": 57,
   "metadata": {},
   "outputs": [
    {
     "name": "stdout",
     "output_type": "stream",
     "text": [
      "rmse mean: 49126644455706.836\n",
      "r-squared mean: -5.158904576734167e+16\n"
     ]
    }
   ],
   "source": [
    "#Dividing categorical and numerical columns\n",
    "types = X.dtypes\n",
    "catcols = types.loc[types == np.object].index\n",
    "numcols = types.loc[types != np.object].index\n",
    "\n",
    "#pipeline for categorical columns\n",
    "cats = Pipeline([('numcols', SimpleImputer(strategy='constant', fill_value=\"null\")),\n",
    "                 ('ohe', OneHotEncoder(handle_unknown='ignore', sparse=False))\n",
    "                 ])\n",
    "\n",
    "ct = ColumnTransformer([\n",
    "    ('catcols', cats, catcols),\n",
    "    ('numcols', SimpleImputer(strategy='constant', fill_value=0), numcols) #pipeline for numerical columns \n",
    "])\n",
    "\n",
    "pl = Pipeline([('feats', ct), ('reg', LinearRegression())])\n",
    "\n",
    "#getting the mean of rmse and r^2 after 50 iterations \n",
    "rmse_list = []\n",
    "rsquared_list = []\n",
    "for i in range(10): \n",
    "    X_tr, X_ts, y_tr, y_ts = train_test_split(X, y, test_size=0.25)\n",
    "    pl.fit(X_tr, y_tr)\n",
    "    rsquared = pl.score(X_ts, y_ts)\n",
    "    rsquared_list.append(rsquared)\n",
    "    preds = pl.predict(X_ts)\n",
    "    rmse = np.sqrt(np.mean(preds - y_ts)**2)\n",
    "    rmse_list.append(rmse)\n",
    "print(\"rmse mean: \" + str(np.mean(rmse_list)))\n",
    "print(\"r-squared mean: \" + str(np.mean(rsquared_list)))"
   ]
  },
  {
   "cell_type": "markdown",
   "metadata": {},
   "source": [
    "### Final Model"
   ]
  },
  {
   "cell_type": "markdown",
   "metadata": {},
   "source": [
    "#### New Feature: Duration"
   ]
  },
  {
   "cell_type": "code",
   "execution_count": 66,
   "metadata": {
    "scrolled": true
   },
   "outputs": [],
   "source": [
    "#setting StartDate and EndDate to datetime objects so we can calculate a new feature, Duration \n",
    "dates['StartDate'] = pd.to_datetime(dates['StartDate'])\n",
    "dates['EndDate'] = pd.to_datetime(dates['EndDate'], errors='coerce')\n",
    "dates['EndDate'] = dates['EndDate'].fillna(datetime.utcnow())"
   ]
  },
  {
   "cell_type": "code",
   "execution_count": 67,
   "metadata": {},
   "outputs": [],
   "source": [
    "#New feature: Duration \n",
    "result['Duration'] = abs(dates['EndDate'] - dates['StartDate'])\n",
    "result[\"Duration\"] = round(result['Duration'].apply(lambda x: x.days * 24 + x.seconds // 3600))"
   ]
  },
  {
   "cell_type": "code",
   "execution_count": 68,
   "metadata": {},
   "outputs": [
    {
     "name": "stderr",
     "output_type": "stream",
     "text": [
      "/Users/cindy/opt/anaconda3/lib/python3.7/site-packages/sklearn/ensemble/forest.py:245: FutureWarning: The default value of n_estimators will change from 10 in version 0.20 to 100 in 0.22.\n",
      "  \"10 in version 0.20 to 100 in 0.22.\", FutureWarning)\n"
     ]
    },
    {
     "name": "stdout",
     "output_type": "stream",
     "text": [
      "r-squared: 0.7524728254515556\n"
     ]
    }
   ],
   "source": [
    "#the columns we're working with \n",
    "result = result[['Impressions', 'StartDate', 'EndDate', 'Duration', 'Spend', 'Gender', 'CountryCode']]\n",
    "\n",
    "#Dividing categorical and numerical columns\n",
    "types = X.dtypes\n",
    "catcols = types.loc[types == np.object].index\n",
    "numcols = types.loc[types != np.object].index\n",
    "\n",
    "#pipeline for categorical columns\n",
    "cats = Pipeline([\n",
    "    ('imp', SimpleImputer(strategy='constant', fill_value='NULL')),\n",
    "    ('ohe', OneHotEncoder(handle_unknown='ignore', sparse=False)),\n",
    "    ('pca', PCA(svd_solver='full', n_components=0.99))\n",
    "])\n",
    "\n",
    "ct = ColumnTransformer([\n",
    "    ('catcols', cats, catcols),\n",
    "    #pipeline for numerical columns\n",
    "    ('numcols', SimpleImputer(strategy='constant', fill_value=0), numcols),\n",
    "    ('quantiles', QuantileTransformer(), numcols)\n",
    "\n",
    "])\n",
    "\n",
    "pl2 = Pipeline([('feats', ct), ('reg', RandomForestRegressor())])\n",
    "\n",
    "X_tr, X_ts, y_tr, y_ts = train_test_split(X, y, test_size=0.25)\n",
    "pl2.fit(X_tr, y_tr)\n",
    "rsquared = pl2.score(X_ts, y_ts)\n",
    "print(\"r-squared: \" + str(rsquared))\n",
    "preds = pl2.predict(X_ts)"
   ]
  },
  {
   "cell_type": "markdown",
   "metadata": {},
   "source": [
    "#### New Feature: High or Low Spending"
   ]
  },
  {
   "cell_type": "code",
   "execution_count": 69,
   "metadata": {},
   "outputs": [
    {
     "data": {
      "text/plain": [
       "85000"
      ]
     },
     "execution_count": 69,
     "metadata": {},
     "output_type": "execute_result"
    }
   ],
   "source": [
    "result['Spend'].max()"
   ]
  },
  {
   "cell_type": "code",
   "execution_count": 81,
   "metadata": {},
   "outputs": [
    {
     "data": {
      "text/plain": [
       "Text(0.5, 0, 'Spend')"
      ]
     },
     "execution_count": 81,
     "metadata": {},
     "output_type": "execute_result"
    },
    {
     "data": {
      "image/png": "[encoded data removed]",
      "text/plain": [
       "<Figure size 720x360 with 1 Axes>"
      ]
     },
     "metadata": {
      "image/png": {
       "height": 331,
       "width": 634
      },
      "needs_background": "light"
     },
     "output_type": "display_data"
    }
   ],
   "source": [
    "result[\"Spend\"].plot(kind='hist', bins=85,figsize=(10,5), xlim=(0,20000))\n",
    "plt.title('Histogram of Spend')\n",
    "plt.xlabel('Spend')"
   ]
  },
  {
   "cell_type": "markdown",
   "metadata": {},
   "source": [
    "We can tell that 1000 is where a majority of the ad spending is concentrated on because we have set the number of bins to 85, and since the max amount spent on an ad is 85,000, we know that each bin is roughly at around 1,000. So, we decided to make the cutoff for high and low spending to be at $1000. "
   ]
  },
  {
   "cell_type": "code",
   "execution_count": 71,
   "metadata": {},
   "outputs": [],
   "source": [
    "#New feature: High or low spending \n",
    "result['spending_brackets'] = (result.Spend <= 1000).replace({True:'Low', False:'High'})"
   ]
  },
  {
   "cell_type": "code",
   "execution_count": 74,
   "metadata": {},
   "outputs": [
    {
     "name": "stderr",
     "output_type": "stream",
     "text": [
      "/Users/cindy/opt/anaconda3/lib/python3.7/site-packages/sklearn/ensemble/forest.py:245: FutureWarning: The default value of n_estimators will change from 10 in version 0.20 to 100 in 0.22.\n",
      "  \"10 in version 0.20 to 100 in 0.22.\", FutureWarning)\n"
     ]
    },
    {
     "name": "stdout",
     "output_type": "stream",
     "text": [
      "r-squared: 0.7858077276567208\n"
     ]
    }
   ],
   "source": [
    "#columns we're working with \n",
    "result = result[['Impressions', 'StartDate', 'EndDate', 'spending_brackets', 'Spend','Gender', 'CountryCode']]\n",
    "\n",
    "#Dividing categorical and numerical columns\n",
    "types = X.dtypes\n",
    "catcols = types.loc[types == np.object].index\n",
    "numcols = types.loc[types != np.object].index\n",
    "\n",
    "#pipeline for categorical columns\n",
    "cats = Pipeline([\n",
    "    ('imp', SimpleImputer(strategy='constant', fill_value='NULL')),\n",
    "    ('ohe', OneHotEncoder(handle_unknown='ignore', sparse=False)),\n",
    "    ('pca', PCA(svd_solver='full', n_components=0.99))\n",
    "])\n",
    "\n",
    "ct = ColumnTransformer([\n",
    "    ('catcols', cats, catcols),\n",
    "    #pipeline for numerical columns\n",
    "    ('numcols', SimpleImputer(strategy='constant', fill_value=0), numcols),\n",
    "    ('quantiles', QuantileTransformer(), numcols)\n",
    "\n",
    "])\n",
    "\n",
    "pl2 = Pipeline([('feats', ct), ('reg', RandomForestRegressor())])\n",
    "\n",
    "X_tr, X_ts, y_tr, y_ts = train_test_split(X, y, test_size=0.25)\n",
    "pl2.fit(X_tr, y_tr)\n",
    "rsquared = pl2.score(X_ts, y_ts)\n",
    "print(\"r-squared: \" + str(rsquared))\n",
    "preds = pl2.predict(X_ts)"
   ]
  },
  {
   "cell_type": "markdown",
   "metadata": {},
   "source": [
    "#### Final Model with All New Features"
   ]
  },
  {
   "cell_type": "code",
   "execution_count": 75,
   "metadata": {},
   "outputs": [],
   "source": [
    "#New feature: Duration \n",
    "result['Duration'] = abs(dates['EndDate'] - dates['StartDate'])\n",
    "result[\"Duration\"] = round(result['Duration'].apply(lambda x: x.days * 24 + x.seconds // 3600))\n",
    "\n",
    "#New feature: Media Type\n",
    "result['spending_brackets'] = (result.Spend <= 1000).replace({True:'Low', False:'High'})"
   ]
  },
  {
   "cell_type": "code",
   "execution_count": 78,
   "metadata": {},
   "outputs": [
    {
     "name": "stderr",
     "output_type": "stream",
     "text": [
      "/Users/cindy/opt/anaconda3/lib/python3.7/site-packages/sklearn/ensemble/forest.py:245: FutureWarning: The default value of n_estimators will change from 10 in version 0.20 to 100 in 0.22.\n",
      "  \"10 in version 0.20 to 100 in 0.22.\", FutureWarning)\n"
     ]
    },
    {
     "name": "stdout",
     "output_type": "stream",
     "text": [
      "r-squared mean: 0.6829500204478698\n"
     ]
    }
   ],
   "source": [
    "#columns we're working with \n",
    "result = result[['Impressions', 'StartDate', 'EndDate', 'Duration', 'spending_brackets', 'Spend','Gender', 'CountryCode']]\n",
    "\n",
    "#Dividing categorical and numerical columns\n",
    "types = X.dtypes\n",
    "catcols = types.loc[types == np.object].index\n",
    "numcols = types.loc[types != np.object].index\n",
    "\n",
    "#pipeline for categorical columns\n",
    "cats = Pipeline([\n",
    "    ('imp', SimpleImputer(strategy='constant', fill_value='NULL')),\n",
    "    ('ohe', OneHotEncoder(handle_unknown='ignore', sparse=False)),\n",
    "    ('pca', PCA(svd_solver='full', n_components=0.99))\n",
    "])\n",
    "\n",
    "ct = ColumnTransformer([\n",
    "    ('catcols', cats, catcols),\n",
    "    #pipeline for numerical columns\n",
    "    ('numcols', SimpleImputer(strategy='constant', fill_value=0), numcols),\n",
    "    ('quantiles', QuantileTransformer(), numcols)\n",
    "\n",
    "])\n",
    "\n",
    "pl2 = Pipeline([('feats', ct), ('reg', RandomForestRegressor())])\n",
    "\n",
    "rmse_list = []\n",
    "rsquared_list = []\n",
    "for i in range(10): \n",
    "    X_tr, X_ts, y_tr, y_ts = train_test_split(X, y, test_size=0.25)\n",
    "    pl2.fit(X_tr, y_tr)\n",
    "    rsquared = pl2.score(X_ts, y_ts)\n",
    "    rsquared_list.append(rsquared)\n",
    "    preds = pl2.predict(X_ts)\n",
    "    rmse = np.sqrt(np.mean(preds - y_ts)**2)\n",
    "    rmse_list.append(rmse)\n",
    "print(\"r-squared mean: \" + str(np.mean(rsquared_list)))"
   ]
  },
  {
   "cell_type": "markdown",
   "metadata": {},
   "source": [
    "### Fairness Evaluation"
   ]
  },
  {
   "cell_type": "markdown",
   "metadata": {},
   "source": [
    "#### Finding threshold for categorizing impressions as high or low reach"
   ]
  },
  {
   "cell_type": "code",
   "execution_count": 79,
   "metadata": {},
   "outputs": [
    {
     "data": {
      "text/plain": [
       "Text(0.5, 0, 'Impressions')"
      ]
     },
     "execution_count": 79,
     "metadata": {},
     "output_type": "execute_result"
    },
    {
     "data": {
      "image/png": "[encoded data removed]",
      "text/plain": [
       "<Figure size 720x360 with 1 Axes>"
      ]
     },
     "metadata": {
      "image/png": {
       "height": 331,
       "width": 618
      },
      "needs_background": "light"
     },
     "output_type": "display_data"
    }
   ],
   "source": [
    "x = result[\"Impressions\"].plot(kind=\"hist\", figsize=(10,5), bins=10, xlim=(0, result[\"Impressions\"].max()))\n",
    "plt.title('Frequency of Impressions Amount')\n",
    "plt.xlabel('Impressions')"
   ]
  },
  {
   "cell_type": "markdown",
   "metadata": {},
   "source": [
    "After graphing this, we noticed that there is a huge difference in this sharp contrast of impressions. So from there, we looked at the data and saw that there was a sharp contrast between the first bin and second bin. There, we made a estimate that 3130994.5 was the cutoff for low/high reach. 3130994.5 would be the first value that would be classified as a 'high' reach."
   ]
  },
  {
   "cell_type": "markdown",
   "metadata": {},
   "source": [
    "#### Permutation Testing"
   ]
  },
  {
   "cell_type": "markdown",
   "metadata": {},
   "source": [
    "Null hypothesis: Our final model predicts high and low impressions at an equal accuracy.\n",
    "\n",
    "Alternative hypothesis: Our final model predicts low impressions better than high impressions.\n",
    "\n",
    "To test our null hypothesis we will be using RMSE as the test statistic and we will set our significance value to 0.05."
   ]
  },
  {
   "cell_type": "code",
   "execution_count": 85,
   "metadata": {},
   "outputs": [],
   "source": [
    "low_list = []\n",
    "high_list = []\n",
    "\n",
    "for i in range(25):\n",
    "    # splitting and training data using our final model\n",
    "    X_tr, X_ts, y_tr, y_ts = train_test_split(X, y, test_size=0.25)\n",
    "    pl2.fit(X_tr, y_tr)\n",
    "    preds = pl2.predict(X_ts)\n",
    "\n",
    "    # putting the predictions, observed, and categorizing if our impressions is\n",
    "    # high or low into a simple dataframe\n",
    "    results = pd.DataFrame()\n",
    "    results[\"Observed\"] = y_ts\n",
    "    results[\"Prediction\"] = preds\n",
    "    results['High_or_Low'] = (results.Observed <= 3130994.5).replace({True:'Low', False:'High'})\n",
    "    results = results[[\"High_or_Low\", \"Observed\", \"Prediction\"]]\n",
    "\n",
    "    #calculate the rmse of the high impressions\n",
    "    high_df = results[results[\"High_or_Low\"] == \"High\"]\n",
    "    high_rmse = np.sqrt(np.mean(high_df[\"Prediction\"] - high_df[\"Observed\"])**2)\n",
    "    high_list.append(high_rmse)\n",
    "\n",
    "    #calculate the rmse of the low impression\n",
    "    low_df = results[results[\"High_or_Low\"] == \"Low\"]\n",
    "    low_rmse = np.sqrt(np.mean(low_df[\"Prediction\"] - low_df[\"Observed\"])**2)\n",
    "    low_list.append(low_rmse)\n",
    "\n",
    "#calculate how many times low performs better than high\n",
    "pvalue = np.count_nonzero(low_list >= high_list) / 25 # count how many times the low list does better than the high"
   ]
  },
  {
   "cell_type": "code",
   "execution_count": 86,
   "metadata": {},
   "outputs": [
    {
     "data": {
      "text/plain": [
       "0.0"
      ]
     },
     "execution_count": 86,
     "metadata": {},
     "output_type": "execute_result"
    }
   ],
   "source": [
    "pvalue"
   ]
  },
  {
   "cell_type": "markdown",
   "metadata": {},
   "source": [
    "Our p-value is 0, which means that in 25 trials, the model is predicting better low impressions than it is high impressions in all trials. Therefore, we reject our null hypothesis and our model may not be fair and is favorable towards predicting low impressions."
   ]
  }
 ],
 "metadata": {
  "kernelspec": {
   "display_name": "Python 3",
   "language": "python",
   "name": "python3"
  },
  "language_info": {
   "codemirror_mode": {
    "name": "ipython",
    "version": 3
   },
   "file_extension": ".py",
   "mimetype": "text/x-python",
   "name": "python",
   "nbconvert_exporter": "python",
   "pygments_lexer": "ipython3",
   "version": "3.7.4"
  }
 },
 "nbformat": 4,
 "nbformat_minor": 2
}
