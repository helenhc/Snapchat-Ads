{
 "cells": [
  {
   "cell_type": "markdown",
   "metadata": {},
   "source": [
    "# Snapchat Political Ads\n",
    "* **See the main project notebook for instructions to be sure you satisfy the rubric!**\n",
    "* See Project 03 for information on the dataset.\n",
    "* A few example prediction questions to pursue are listed below. However, don't limit yourself to them!\n",
    "    * Predict the reach (number of views) of an ad.\n",
    "    * Predict how much was spent on an ad.\n",
    "    * Predict the target group of an ad. (For example, predict the target gender.)\n",
    "    * Predict the (type of) organization/advertiser behind an ad.\n",
    "\n",
    "Be careful to justify what information you would know at the \"time of prediction\" and train your model using only those features."
   ]
  },
  {
   "cell_type": "markdown",
   "metadata": {},
   "source": [
    "# Summary of Findings\n",
    "\n",
    "Prediction: We will try to predict the reach, or the number of views, of an ad. This is a regression problem. \n",
    "### Introduction\n",
    "TODO\n",
    "\n",
    "### Baseline Model\n",
    "OneHotEncoder is ideal, because we use easily use it on all of the categorical columns. The function of OHE is to \"Encode categorical features as a one-hot numeric array\", so we can have numerical values onto the qualitiative values for easy calculations and predictions within the data. For both numerical and categorical columns, we used Simple Imputer in case there were any missing values that we had missed. \n",
    "\n",
    "Since it is just a baseline model, we did not focus on separating between nominal or ordinal columns because we end up dropping a lot of the columns later in our final model. But we don't differentiate it in our final model either, because we only use either quantitative or nominal data. \n",
    "\n",
    "r-squared: //TODO\n",
    "\n",
    "rmse: //TODO\n",
    "\n",
    "Based on the evaluation metric as well as referencing our pipeline, we anticipate the baseline model to not be a very good predictor of the number of views. The OHE wthin the categorical columns is decent, but it does not do anything within the quantitative columns except impute it with a neutral value of 0, which can possibly bias the columns in the direction that we don't want to go in. \n",
    "### Final Model\n",
    "Impressions, Duration, and Spend are our quantitative columns. StartDate, EndDate, Gender, CountryCode, and spending_brackets are our qualitative columns, but more specifically, our nominal data. We are not working with any ordinal data. Although StartDate and EndDate may be a bit blurry on the classification of being nominal or ordinal, we have categorized these two columns as nominal, which is explained in a bit more detail later. We chose to work with these columns specifically because we considered these to contain the most valuable information. StartDate and EndDate might be significant, concerning the exact time of year that the ad was being displayed. For example, if it was aired durig the holiday season, there might be more impressions because more people are out of school, on vacation and not working, etc. As for gender, if there were restrictions on one gender, it cuts off half the general population, which will likely greatly reduce the amount of views an ad has. For CountryCode, there are vastly different population numbers varying by country. The US may have way more impressions than a smaller and less populated country, like Korea for example. It also brings into context that many people around the world may not utilize Snapchat as one of their main sources of social media- in other words, Snapchat may not be as popular in other countries as it is in the United States. As for our newly engineered features and why we believe they are vital to our predictions, they are discussed later within our code. \n",
    "\n",
    "In addition to the functions that we used within our baseline model, we also included PCA onto our categorical columns as well as QuantileTransformer within our numerical columns. \n",
    "PCA is significant in increasing our accuracy of our predictions because it is able to project the values within the categorical columns into a lower dimensional space if needed by using Singular Value Decomposition (SVD). This can be especially important, especially to centralize the values coming from the categorical columns, even if we ourselves may not necessarily see it. As for QuantileTransformer, it allows the numerical columns to follow a bell curved shape. \n",
    "\n",
    "We had set our baseline to a LinearRegression model, but later progressed to using a RandomForestRegressor because we thought that this would work better than a LinearRegression model because it is able to use the averages of our features to be able to produce better predictions. Another plus is that it is able to control, to some extent, over-fitting, which was an issue we were worried about. \n",
    "\n",
    "\n",
    "r-squared: //TODO\n",
    "\n",
    "rmse: //TODO\n",
    "\n",
    "The feature that ended up performing the best was //TODO \n",
    "### Fairness Evaluation\n",
    "TODO"
   ]
  },
  {
   "cell_type": "markdown",
   "metadata": {},
   "source": [
    "# Code"
   ]
  },
  {
   "cell_type": "code",
   "execution_count": 1,
   "metadata": {},
   "outputs": [],
   "source": [
    "import matplotlib.pyplot as plt\n",
    "import numpy as np\n",
    "import os\n",
    "import pandas as pd\n",
    "import seaborn as sns\n",
    "%matplotlib inline\n",
    "%config InlineBackend.figure_format = 'retina'  # Higher resolution figures\n",
    "\n",
    "from sklearn.impute import SimpleImputer\n",
    "from sklearn.decomposition import PCA\n",
    "from sklearn.linear_model import LinearRegression\n",
    "from sklearn.preprocessing import OneHotEncoder\n",
    "\n",
    "from sklearn.pipeline import Pipeline\n",
    "from sklearn.compose import ColumnTransformer\n",
    "from sklearn.preprocessing import FunctionTransformer\n",
    "from sklearn.model_selection import train_test_split\n",
    "from datetime import datetime\n",
    "from sklearn.ensemble import RandomForestRegressor\n",
    "import re\n",
    "from sklearn import metrics\n",
    "import datetime as dt \n",
    "from sklearn.preprocessing import QuantileTransformer\n"
   ]
  },
  {
   "cell_type": "code",
   "execution_count": 2,
   "metadata": {
    "scrolled": true
   },
   "outputs": [
    {
     "data": {
      "text/plain": [
       "Index(['ADID', 'CreativeUrl', 'Spend', 'Impressions', 'StartDate', 'EndDate',\n",
       "       'OrganizationName', 'BillingAddress', 'CandidateBallotInformation',\n",
       "       'PayingAdvertiserName', 'Gender', 'AgeBracket', 'CountryCode',\n",
       "       'RegionID', 'ElectoralDistrictID', 'LatLongRad', 'MetroID', 'Interests',\n",
       "       'OsType', 'Segments', 'LocationType', 'Language',\n",
       "       'AdvancedDemographics', 'Targeting Connection Type',\n",
       "       'Targeting Carrier (ISP)', 'Targeting Geo - Postal Code',\n",
       "       'CreativeProperties'],\n",
       "      dtype='object')"
      ]
     },
     "execution_count": 2,
     "metadata": {},
     "output_type": "execute_result"
    }
   ],
   "source": [
    "eighteen = pd.read_csv(\"2018.csv\")\n",
    "nineteen = pd.read_csv(\"2019.csv\")\n",
    "result = pd.concat([eighteen, nineteen])\n",
    "result = result.reset_index(drop=True)\n",
    "dates = result[['StartDate', 'EndDate', 'CreativeUrl']]\n",
    "result.columns"
   ]
  },
  {
   "cell_type": "markdown",
   "metadata": {},
   "source": [
    "Prediction: We will try to predict the reach, or the number of views, of an ad. This is a regression problem. "
   ]
  },
  {
   "cell_type": "markdown",
   "metadata": {},
   "source": [
    "### Baseline Model"
   ]
  },
  {
   "cell_type": "code",
   "execution_count": 3,
   "metadata": {},
   "outputs": [],
   "source": [
    "# changing all dates to datetime objects\n",
    "result['StartDate'] = result['StartDate'].str[:-1]\n",
    "result['EndDate'] = result['EndDate'].str[:-1]\n",
    "\n",
    "# StartDate = pd.to_datetime(result['StartDate'])\n",
    "# result['EndDate'] = pd.to_datetime(result['EndDate'], errors='coerce')\n",
    "\n",
    "# Segments\n",
    "result['Segments'] = result['Segments'].fillna(\"Not Provided by Advertiser\")\n",
    "\n",
    "# these cols need to all be filled nans with the respective country\n",
    "country_cols = [\"RegionID\", \"ElectoralDistrictID\",\"LatLongRad\",\"MetroID\",\"Targeting Geo - Postal Code\"]\n",
    "\n",
    "for i in range(len(country_cols)):\n",
    "    result[country_cols[i]] = result[country_cols[i]].fillna(result[\"CountryCode\"])\n",
    "\n",
    "# these cols need to all be filled nans with just string \"all\"\n",
    "all_cols = [\"Interests\",\"Language\",\"AdvancedDemographics\",\"Gender\",\"AgeBracket\",\"OsType\"]\n",
    "    \n",
    "for i in range(len(all_cols)):\n",
    "    result[all_cols[i]] = result[all_cols[i]].fillna(\"All\")\n",
    "    \n",
    "nan_cols = ['CandidateBallotInformation', 'LocationType', 'CreativeProperties']\n",
    "for i in range(len(nan_cols)): \n",
    "    result[nan_cols[i]] = result[nan_cols[i]].fillna(\"Not provided\")\n",
    "    \n",
    "# EndDate                         fill with \"Present\" or current time\n",
    "result['EndDate'] = str(result['EndDate'].fillna(datetime.utcnow()))\n",
    "# Gender                          fill with \"All\"\n",
    "result['Gender'] = result['Gender'].fillna(\"All\")\n",
    "result = result.drop(columns=['Targeting Connection Type', \"Targeting Carrier (ISP)\"])\n",
    "#CandidateBallotInformation; LocationType; Creative Properties"
   ]
  },
  {
   "cell_type": "code",
   "execution_count": 4,
   "metadata": {},
   "outputs": [],
   "source": [
    "X = result.drop(['Impressions'], axis=1)\n",
    "y = result.Impressions"
   ]
  },
  {
   "cell_type": "code",
   "execution_count": 5,
   "metadata": {},
   "outputs": [
    {
     "name": "stdout",
     "output_type": "stream",
     "text": [
      "rmse mean: 28457.011546722828\n",
      "r-squared mean: 0.6560792028684438\n"
     ]
    }
   ],
   "source": [
    "#Dividing categorical and numerical columns\n",
    "types = X.dtypes\n",
    "catcols = types.loc[types == np.object].index\n",
    "numcols = types.loc[types != np.object].index\n",
    "\n",
    "#pipeline for categorical columns\n",
    "cats = Pipeline([('numcols', SimpleImputer(strategy='constant', fill_value=\"null\")),\n",
    "                 ('ohe', OneHotEncoder(handle_unknown='ignore', sparse=False))\n",
    "                 ])\n",
    "\n",
    "ct = ColumnTransformer([\n",
    "    ('catcols', cats, catcols),\n",
    "    ('numcols', SimpleImputer(strategy='constant', fill_value=0), numcols) #pipeline for numerical columns \n",
    "])\n",
    "\n",
    "pl = Pipeline([('feats', ct), ('reg', LinearRegression())])\n",
    "\n",
    "#getting the mean of rmse and r^2 after 50 iterations \n",
    "rmse_list = []\n",
    "rsquared_list = []\n",
    "for i in range(10): \n",
    "    X_tr, X_ts, y_tr, y_ts = train_test_split(X, y, test_size=0.25)\n",
    "    pl.fit(X_tr, y_tr)\n",
    "    rsquared = pl.score(X_ts, y_ts)\n",
    "    rsquared_list.append(rsquared)\n",
    "    preds = pl.predict(X_ts)\n",
    "    rmse = np.sqrt(np.mean(preds - y_ts)**2)\n",
    "    rmse_list.append(rmse)\n",
    "print(\"rmse mean: \" + str(np.mean(rmse_list)))\n",
    "print(\"r-squared mean: \" + str(np.mean(rsquared_list)))"
   ]
  },
  {
   "cell_type": "markdown",
   "metadata": {},
   "source": [
    "### Final Model"
   ]
  },
  {
   "cell_type": "code",
   "execution_count": 6,
   "metadata": {
    "scrolled": true
   },
   "outputs": [],
   "source": [
    "#setting StartDate and EndDate to datetime objects so we can calculate a new feature, Duration \n",
    "dates['StartDate'] = pd.to_datetime(dates['StartDate'])\n",
    "dates['EndDate'] = pd.to_datetime(dates['EndDate'], errors='coerce')\n",
    "dates['EndDate'] = dates['EndDate'].fillna(datetime.utcnow())"
   ]
  },
  {
   "cell_type": "code",
   "execution_count": 7,
   "metadata": {},
   "outputs": [],
   "source": [
    "#New feature: Duration \n",
    "result['Duration'] = abs(dates['EndDate'] - dates['StartDate'])\n",
    "result[\"Duration\"] = round(result['Duration'].apply(lambda x: x.days * 24 + x.seconds // 3600))"
   ]
  },
  {
   "cell_type": "markdown",
   "metadata": {},
   "source": [
    "We created a new feature, Duration, which is the time in hours, the ad was aired on Snapchat. We categorized StartDate and EndDate as nominal categories, as we believe it represents no ordering. But by being able to subtract the EndDate and the StartDate, we can develop values that do have specific orderings to them; e.g. ads that aired for 5 hours is definitely shorter than ones that aired for 25 hours. But this new column, Duration, is a good addition to our features because it is a quantitative column as it is numbers that we can do mathematical applications with, e.g. mean, median, quartiles, etc. "
   ]
  },
  {
   "cell_type": "code",
   "execution_count": 8,
   "metadata": {},
   "outputs": [
    {
     "name": "stderr",
     "output_type": "stream",
     "text": [
      "/anaconda3/lib/python3.7/site-packages/sklearn/ensemble/forest.py:246: FutureWarning: The default value of n_estimators will change from 10 in version 0.20 to 100 in 0.22.\n",
      "  \"10 in version 0.20 to 100 in 0.22.\", FutureWarning)\n"
     ]
    },
    {
     "name": "stdout",
     "output_type": "stream",
     "text": [
      "r-squared: 0.6693135844085638\n",
      "rmse: 30882.909306569352\n"
     ]
    }
   ],
   "source": [
    "#the columns we're working with \n",
    "result = result[['Impressions', 'StartDate', 'EndDate', 'Duration', 'Spend', 'Gender', 'CountryCode']]\n",
    "\n",
    "#Dividing categorical and numerical columns\n",
    "types = X.dtypes\n",
    "catcols = types.loc[types == np.object].index\n",
    "numcols = types.loc[types != np.object].index\n",
    "\n",
    "#pipeline for categorical columns\n",
    "cats = Pipeline([\n",
    "    ('imp', SimpleImputer(strategy='constant', fill_value='NULL')),\n",
    "    ('ohe', OneHotEncoder(handle_unknown='ignore', sparse=False)),\n",
    "    ('pca', PCA(svd_solver='full', n_components=0.99))\n",
    "])\n",
    "\n",
    "ct = ColumnTransformer([\n",
    "    ('catcols', cats, catcols),\n",
    "    #pipeline for numerical columns\n",
    "    ('numcols', SimpleImputer(strategy='constant', fill_value=0), numcols),\n",
    "    ('quantiles', QuantileTransformer(), numcols)\n",
    "\n",
    "])\n",
    "\n",
    "pl2 = Pipeline([('feats', ct), ('reg', RandomForestRegressor())])\n",
    "\n",
    "X_tr, X_ts, y_tr, y_ts = train_test_split(X, y, test_size=0.25)\n",
    "pl2.fit(X_tr, y_tr)\n",
    "rsquared = pl2.score(X_ts, y_ts)\n",
    "print(\"r-squared: \" + str(rsquared))\n",
    "preds = pl2.predict(X_ts)\n",
    "rmse = np.sqrt(np.mean(preds - y_ts)**2)\n",
    "print(\"rmse: \" + str(rmse))"
   ]
  },
  {
   "cell_type": "code",
   "execution_count": 9,
   "metadata": {},
   "outputs": [
    {
     "data": {
      "text/plain": [
       "85000"
      ]
     },
     "execution_count": 9,
     "metadata": {},
     "output_type": "execute_result"
    }
   ],
   "source": [
    "result['Spend'].max()"
   ]
  },
  {
   "cell_type": "code",
   "execution_count": 10,
   "metadata": {},
   "outputs": [
    {
     "data": {
      "text/plain": [
       "Text(0.5, 0, 'Spend')"
      ]
     },
     "execution_count": 10,
     "metadata": {},
     "output_type": "execute_result"
    },
    {
     "data": {
      "image/png": "[encoded data removed]",
      "text/plain": [
       "<Figure size 1800x360 with 1 Axes>"
      ]
     },
     "metadata": {
      "image/png": {
       "height": 331,
       "width": 1471
      },
      "needs_background": "light"
     },
     "output_type": "display_data"
    }
   ],
   "source": [
    "result[\"Spend\"].plot(kind='hist', bins=85,figsize=(25,5), xlim=(0,20000))\n",
    "plt.title('Histogram of Spend')\n",
    "plt.xlabel('Spend')"
   ]
  },
  {
   "cell_type": "markdown",
   "metadata": {},
   "source": [
    "We can tell that 1000 is where a majority of the ad spending is concentrated on because we have set the number of bins to 85, and since the max amount spent on an ad is 85,000, we know that each bin is roughly at around 1,000. So, we decided to make the cutoff for high and low spending to be at $1000. "
   ]
  },
  {
   "cell_type": "code",
   "execution_count": 11,
   "metadata": {},
   "outputs": [],
   "source": [
    "#New feature: High or low spending \n",
    "result['spending_brackets'] = (result.Spend <= 1000).replace({True:'Low', False:'High'})"
   ]
  },
  {
   "cell_type": "markdown",
   "metadata": {},
   "source": [
    "We created a new feature called spending_brackets. This is a binary column, in which we have categorized what a 'high' or 'low' spending is. We were able to define this threshold by graphing the distribution (the histogram above). By having a feature with a more definitive answer on what we consider a high or low spending value, we believe this will enhance our predictions. "
   ]
  },
  {
   "cell_type": "code",
   "execution_count": 12,
   "metadata": {},
   "outputs": [
    {
     "name": "stderr",
     "output_type": "stream",
     "text": [
      "/anaconda3/lib/python3.7/site-packages/sklearn/ensemble/forest.py:246: FutureWarning: The default value of n_estimators will change from 10 in version 0.20 to 100 in 0.22.\n",
      "  \"10 in version 0.20 to 100 in 0.22.\", FutureWarning)\n"
     ]
    },
    {
     "name": "stdout",
     "output_type": "stream",
     "text": [
      "r-squared: 0.504297359709582\n",
      "rmse: 36209.4377737226\n"
     ]
    }
   ],
   "source": [
    "#columns we're working with \n",
    "result = result[['Impressions', 'StartDate', 'EndDate', 'spending_brackets', 'Spend','Gender', 'CountryCode']]\n",
    "\n",
    "#Dividing categorical and numerical columns\n",
    "types = X.dtypes\n",
    "catcols = types.loc[types == np.object].index\n",
    "numcols = types.loc[types != np.object].index\n",
    "\n",
    "#pipeline for categorical columns\n",
    "cats = Pipeline([\n",
    "    ('imp', SimpleImputer(strategy='constant', fill_value='NULL')),\n",
    "    ('ohe', OneHotEncoder(handle_unknown='ignore', sparse=False)),\n",
    "    ('pca', PCA(svd_solver='full', n_components=0.99))\n",
    "])\n",
    "\n",
    "ct = ColumnTransformer([\n",
    "    ('catcols', cats, catcols),\n",
    "    #pipeline for numerical columns\n",
    "    ('numcols', SimpleImputer(strategy='constant', fill_value=0), numcols),\n",
    "    ('quantiles', QuantileTransformer(), numcols)\n",
    "\n",
    "])\n",
    "\n",
    "pl2 = Pipeline([('feats', ct), ('reg', RandomForestRegressor())])\n",
    "\n",
    "X_tr, X_ts, y_tr, y_ts = train_test_split(X, y, test_size=0.25)\n",
    "pl2.fit(X_tr, y_tr)\n",
    "rsquared = pl2.score(X_ts, y_ts)\n",
    "print(\"r-squared: \" + str(rsquared))\n",
    "preds = pl2.predict(X_ts)\n",
    "rmse = np.sqrt(np.mean(preds - y_ts)**2)\n",
    "print(\"rmse: \" + str(rmse))"
   ]
  },
  {
   "cell_type": "markdown",
   "metadata": {},
   "source": [
    "### Final Model with New Features"
   ]
  },
  {
   "cell_type": "code",
   "execution_count": 13,
   "metadata": {},
   "outputs": [],
   "source": [
    "#New feature: Duration \n",
    "result['Duration'] = abs(dates['EndDate'] - dates['StartDate'])\n",
    "result[\"Duration\"] = round(result['Duration'].apply(lambda x: x.days * 24 + x.seconds // 3600))\n",
    "\n",
    "#New feature: Media Type\n",
    "result['spending_brackets'] = (result.Spend <= 1000).replace({True:'Low', False:'High'})"
   ]
  },
  {
   "cell_type": "code",
   "execution_count": 14,
   "metadata": {},
   "outputs": [
    {
     "name": "stderr",
     "output_type": "stream",
     "text": [
      "/anaconda3/lib/python3.7/site-packages/sklearn/ensemble/forest.py:246: FutureWarning: The default value of n_estimators will change from 10 in version 0.20 to 100 in 0.22.\n",
      "  \"10 in version 0.20 to 100 in 0.22.\", FutureWarning)\n"
     ]
    },
    {
     "name": "stdout",
     "output_type": "stream",
     "text": [
      "rmse mean: 76517.18764598538\n",
      "r-squared mean: 0.5801023066000912\n"
     ]
    }
   ],
   "source": [
    "#columns we're working with \n",
    "result = result[['Impressions', 'StartDate', 'EndDate', 'Duration', 'spending_brackets', 'Spend','Gender', 'CountryCode']]\n",
    "\n",
    "#Dividing categorical and numerical columns\n",
    "types = X.dtypes\n",
    "catcols = types.loc[types == np.object].index\n",
    "numcols = types.loc[types != np.object].index\n",
    "\n",
    "#pipeline for categorical columns\n",
    "cats = Pipeline([\n",
    "    ('imp', SimpleImputer(strategy='constant', fill_value='NULL')),\n",
    "    ('ohe', OneHotEncoder(handle_unknown='ignore', sparse=False)),\n",
    "    ('pca', PCA(svd_solver='full', n_components=0.99))\n",
    "])\n",
    "\n",
    "ct = ColumnTransformer([\n",
    "    ('catcols', cats, catcols),\n",
    "    #pipeline for numerical columns\n",
    "    ('numcols', SimpleImputer(strategy='constant', fill_value=0), numcols),\n",
    "    ('quantiles', QuantileTransformer(), numcols)\n",
    "\n",
    "])\n",
    "\n",
    "pl2 = Pipeline([('feats', ct), ('reg', RandomForestRegressor())])\n",
    "\n",
    "rmse_list = []\n",
    "rsquared_list = []\n",
    "for i in range(10): \n",
    "    X_tr, X_ts, y_tr, y_ts = train_test_split(X, y, test_size=0.25)\n",
    "    pl2.fit(X_tr, y_tr)\n",
    "    rsquared = pl2.score(X_ts, y_ts)\n",
    "    rsquared_list.append(rsquared)\n",
    "    preds = pl2.predict(X_ts)\n",
    "    rmse = np.sqrt(np.mean(preds - y_ts)**2)\n",
    "    rmse_list.append(rmse)\n",
    "print(\"rmse mean: \" + str(np.mean(rmse_list)))\n",
    "print(\"r-squared mean: \" + str(np.mean(rsquared_list)))\n"
   ]
  },
  {
   "cell_type": "markdown",
   "metadata": {},
   "source": [
    "### Fairness Evaluation"
   ]
  },
  {
   "cell_type": "markdown",
   "metadata": {},
   "source": [
    "### Permutation Testing"
   ]
  },
  {
   "cell_type": "code",
   "execution_count": 15,
   "metadata": {},
   "outputs": [
    {
     "ename": "SyntaxError",
     "evalue": "invalid character in identifier (<ipython-input-15-fde5050b1ed2>, line 6)",
     "output_type": "error",
     "traceback": [
      "\u001b[0;36m  File \u001b[0;32m\"<ipython-input-15-fde5050b1ed2>\"\u001b[0;36m, line \u001b[0;32m6\u001b[0m\n\u001b[0;31m    X_tr, X_ts, y_tr, y_ts = train_test_split(X, y, test_size=0.25)\u001b[0m\n\u001b[0m       ^\u001b[0m\n\u001b[0;31mSyntaxError\u001b[0m\u001b[0;31m:\u001b[0m invalid character in identifier\n"
     ]
    }
   ],
   "source": [
    "#RMSE fairness evaluation\n",
    "low_list = []\n",
    "high_list = []\n",
    "\n",
    "for i in range(100):\n",
    "    X_tr, X_ts, y_tr, y_ts = train_test_split(X, y, test_size=0.25)\n",
    "    pl2.fit(X_tr, y_tr)\n",
    "    preds = pl2.predict(X_ts)\n",
    "\n",
    "    results = pd.DataFrame()\n",
    "\n",
    "    results[\"Observed\"] = y_ts\n",
    "    results[\"Prediction\"] = preds\n",
    "    results['High_or_Low'] = (results.Observed <= 3130994.5).replace({True:'Low', False:'High'})\n",
    "    results = results[[\"High_or_Low\", \"Observed\", \"Prediction\"]]\n",
    "\n",
    "    high_df = results[results[\"High_or_Low\"] == \"High\"]\n",
    "    high_rmse = np.sqrt(np.mean(high_df[\"Prediction\"] - high_df[\"Observed\"])**2)\n",
    "    high_list.append(high_rmse)\n",
    "\n",
    "    low_df = results[results[\"High_or_Low\"] == \"Low\"]\n",
    "    low_rmse = np.sqrt(np.mean(low_df[\"Prediction\"] - low_df[\"Observed\"])**2)\n",
    "    low_list.append(low_rmse)\n",
    "\n",
    "#test stat = rmse\n",
    "# null the high list performs better than the low list\n",
    "np.count_nonzero(low_list >= high_list) / 100 # count how many times the low list does better than the high\n",
    "# pval = 0, 100% of the time the high list performs worse than the low list, reject the null hyp\n",
    "\n",
    "# low_list, high_list"
   ]
  },
  {
   "cell_type": "code",
   "execution_count": null,
   "metadata": {},
   "outputs": [],
   "source": []
  }
 ],
 "metadata": {
  "kernelspec": {
   "display_name": "Python 3",
   "language": "python",
   "name": "python3"
  },
  "language_info": {
   "codemirror_mode": {
    "name": "ipython",
    "version": 3
   },
   "file_extension": ".py",
   "mimetype": "text/x-python",
   "name": "python",
   "nbconvert_exporter": "python",
   "pygments_lexer": "ipython3",
   "version": "3.7.1"
  }
 },
 "nbformat": 4,
 "nbformat_minor": 2
}
