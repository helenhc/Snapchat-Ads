{
 "cells": [
  {
   "cell_type": "markdown",
   "metadata": {},
   "source": [
    "# Snapchat Political Ads\n",
    "* **See the main project notebook for instructions to be sure you satisfy the rubric!**\n",
    "* See Project 03 for information on the dataset.\n",
    "* A few example prediction questions to pursue are listed below. However, don't limit yourself to them!\n",
    "    * Predict the reach (number of views) of an ad.\n",
    "    * Predict how much was spent on an ad.\n",
    "    * Predict the target group of an ad. (For example, predict the target gender.)\n",
    "    * Predict the (type of) organization/advertiser behind an ad.\n",
    "\n",
    "Be careful to justify what information you would know at the \"time of prediction\" and train your model using only those features."
   ]
  },
  {
   "cell_type": "markdown",
   "metadata": {},
   "source": [
    "# Summary of Findings\n",
    "\n",
    "\n",
    "### Introduction\n",
    "TODO\n",
    "\n",
    "### Baseline Model\n",
    "For our baseline model, we used SimpleImputer and OneHotEncoder for the categorical columns. For the numerical columns, we just used SimpleImputer. Because all our our qualitative columns were of nominal types, so that enabled us to just group all the qualitiative columns together through our pipeline. It is important to note that the accuracy of this baseline pipeline is: \n",
    "\n",
    "r-squared: 0.4727801201580596\n",
    "\n",
    "rmse: 23575.742207957916\n",
    "### Final Model\n",
    "TODO\n",
    "\n",
    "### Fairness Evaluation\n",
    "TODO"
   ]
  },
  {
   "cell_type": "markdown",
   "metadata": {},
   "source": [
    "# Code"
   ]
  },
  {
   "cell_type": "code",
   "execution_count": 39,
   "metadata": {},
   "outputs": [],
   "source": [
    "import matplotlib.pyplot as plt\n",
    "import numpy as np\n",
    "import os\n",
    "import pandas as pd\n",
    "import seaborn as sns\n",
    "%matplotlib inline\n",
    "%config InlineBackend.figure_format = 'retina'  # Higher resolution figures\n",
    "\n",
    "from sklearn.impute import SimpleImputer\n",
    "from sklearn.decomposition import PCA\n",
    "from sklearn.linear_model import LinearRegression\n",
    "from sklearn.preprocessing import OneHotEncoder\n",
    "\n",
    "from sklearn.pipeline import Pipeline\n",
    "from sklearn.compose import ColumnTransformer\n",
    "from sklearn.preprocessing import FunctionTransformer\n",
    "from sklearn.model_selection import train_test_split\n",
    "from datetime import datetime\n",
    "from sklearn.ensemble import RandomForestRegressor\n",
    "import re\n",
    "from sklearn import metrics\n",
    "import datetime as dt "
   ]
  },
  {
   "cell_type": "code",
   "execution_count": 40,
   "metadata": {},
   "outputs": [
    {
     "name": "stderr",
     "output_type": "stream",
     "text": [
      "/Users/cindy/opt/anaconda3/lib/python3.7/site-packages/ipykernel_launcher.py:6: SettingWithCopyWarning: \n",
      "A value is trying to be set on a copy of a slice from a DataFrame.\n",
      "Try using .loc[row_indexer,col_indexer] = value instead\n",
      "\n",
      "See the caveats in the documentation: http://pandas.pydata.org/pandas-docs/stable/user_guide/indexing.html#returning-a-view-versus-a-copy\n",
      "  \n",
      "/Users/cindy/opt/anaconda3/lib/python3.7/site-packages/ipykernel_launcher.py:7: SettingWithCopyWarning: \n",
      "A value is trying to be set on a copy of a slice from a DataFrame.\n",
      "Try using .loc[row_indexer,col_indexer] = value instead\n",
      "\n",
      "See the caveats in the documentation: http://pandas.pydata.org/pandas-docs/stable/user_guide/indexing.html#returning-a-view-versus-a-copy\n",
      "  import sys\n"
     ]
    },
    {
     "data": {
      "text/plain": [
       "Index(['ADID', 'CreativeUrl', 'Spend', 'Impressions', 'StartDate', 'EndDate',\n",
       "       'OrganizationName', 'BillingAddress', 'CandidateBallotInformation',\n",
       "       'PayingAdvertiserName', 'Gender', 'AgeBracket', 'CountryCode',\n",
       "       'RegionID', 'ElectoralDistrictID', 'LatLongRad', 'MetroID', 'Interests',\n",
       "       'OsType', 'Segments', 'LocationType', 'Language',\n",
       "       'AdvancedDemographics', 'Targeting Connection Type',\n",
       "       'Targeting Carrier (ISP)', 'Targeting Geo - Postal Code',\n",
       "       'CreativeProperties'],\n",
       "      dtype='object')"
      ]
     },
     "execution_count": 40,
     "metadata": {},
     "output_type": "execute_result"
    }
   ],
   "source": [
    "eighteen = pd.read_csv(\"2018.csv\")\n",
    "nineteen = pd.read_csv(\"2019.csv\")\n",
    "result = pd.concat([eighteen, nineteen])\n",
    "result = result.reset_index(drop=True)\n",
    "dates = result[['StartDate', 'EndDate', 'CreativeUrl']]\n",
    "dates['StartDate'] = dates['StartDate'].str[:-1]\n",
    "dates['EndDate'] = dates['EndDate'].str[:-1]\n",
    "\n",
    "result.columns"
   ]
  },
  {
   "cell_type": "markdown",
   "metadata": {},
   "source": [
    "Prediction: We will try to predict the reach, or the number of views, of an ad. This is a regression problem. "
   ]
  },
  {
   "cell_type": "markdown",
   "metadata": {},
   "source": [
    "### Baseline Model"
   ]
  },
  {
   "cell_type": "code",
   "execution_count": 41,
   "metadata": {},
   "outputs": [],
   "source": [
    "# changing all dates to datetime objects\n",
    "result['StartDate'] = result['StartDate'].str[:-1]\n",
    "result['EndDate'] = result['EndDate'].str[:-1]\n",
    "\n",
    "# StartDate = pd.to_datetime(result['StartDate'])\n",
    "# result['EndDate'] = pd.to_datetime(result['EndDate'], errors='coerce')\n",
    "\n",
    "# Segments\n",
    "result['Segments'] = result['Segments'].fillna(\"Not Provided by Advertiser\")\n",
    "\n",
    "# these cols need to all be filled nans with the respective country\n",
    "country_cols = [\"RegionID\", \"ElectoralDistrictID\",\"LatLongRad\",\"MetroID\",\"Targeting Geo - Postal Code\"]\n",
    "\n",
    "for i in range(len(country_cols)):\n",
    "    result[country_cols[i]] = result[country_cols[i]].fillna(result[\"CountryCode\"])\n",
    "\n",
    "# these cols need to all be filled nans with just string \"all\"\n",
    "all_cols = [\"Interests\",\"Language\",\"AdvancedDemographics\",\"Gender\",\"AgeBracket\",\"OsType\"]\n",
    "    \n",
    "for i in range(len(all_cols)):\n",
    "    result[all_cols[i]] = result[all_cols[i]].fillna(\"All\")\n",
    "    \n",
    "nan_cols = ['CandidateBallotInformation', 'LocationType', 'CreativeProperties']\n",
    "for i in range(len(nan_cols)): \n",
    "    result[nan_cols[i]] = result[nan_cols[i]].fillna(\"Not provided\")\n",
    "    \n",
    "# EndDate                         fill with \"Present\" or current time\n",
    "result['EndDate'] = str(result['EndDate'].fillna(datetime.utcnow()))\n",
    "# Gender                          fill with \"All\"\n",
    "result['Gender'] = result['Gender'].fillna(\"All\")\n",
    "result = result.drop(columns=['Targeting Connection Type', \"Targeting Carrier (ISP)\"])\n",
    "#CandidateBallotInformation; LocationType; Creative Properties "
   ]
  },
  {
   "cell_type": "code",
   "execution_count": 42,
   "metadata": {},
   "outputs": [],
   "source": [
    "X = result.drop(['Impressions'], axis=1)\n",
    "y = result.Impressions"
   ]
  },
  {
   "cell_type": "code",
   "execution_count": 43,
   "metadata": {},
   "outputs": [
    {
     "name": "stdout",
     "output_type": "stream",
     "text": [
      "r-squared: 0.6981131352464587\n",
      "rmse: 55135.92824290432\n"
     ]
    }
   ],
   "source": [
    "# TODO\n",
    "types = X.dtypes\n",
    "catcols = types.loc[types == np.object].index\n",
    "numcols = types.loc[types != np.object].index\n",
    "\n",
    "cats = Pipeline([\n",
    "    \n",
    "    ('ohe', OneHotEncoder(handle_unknown='ignore', sparse=False)),\n",
    "])\n",
    "\n",
    "ct = ColumnTransformer([\n",
    "    ('catcols', cats, catcols),\n",
    "    ('numcols', SimpleImputer(strategy='constant', fill_value=0), numcols)\n",
    "])\n",
    "\n",
    "pl = Pipeline([('feats', ct), ('reg', LinearRegression())])\n",
    "\n",
    "X_tr, X_ts, y_tr, y_ts = train_test_split(X, y, test_size=0.25)\n",
    "pl.fit(X_tr, y_tr)\n",
    "rsquared = pl.score(X_ts, y_ts)\n",
    "print(\"r-squared: \" + str(rsquared))\n",
    "preds = pl.predict(X_ts)\n",
    "rmse = np.sqrt(np.mean(preds - y_ts)**2)\n",
    "print(\"rmse: \" + str(rmse))\n"
   ]
  },
  {
   "cell_type": "markdown",
   "metadata": {},
   "source": [
    "### Final Model"
   ]
  },
  {
   "cell_type": "code",
   "execution_count": 6,
   "metadata": {
    "scrolled": true
   },
   "outputs": [
    {
     "data": {
      "text/plain": [
       "StartDate      datetime64[ns]\n",
       "EndDate        datetime64[ns]\n",
       "CreativeUrl            object\n",
       "dtype: object"
      ]
     },
     "metadata": {},
     "output_type": "display_data"
    }
   ],
   "source": [
    "dates['StartDate'] = pd.to_datetime(dates['StartDate'])\n",
    "dates['EndDate'] = pd.to_datetime(dates['EndDate'])\n",
    "# EndDate                         fill with \"Present\" or current time\n",
    "dates['EndDate'] = dates['EndDate'].fillna(datetime.utcnow())\n",
    "# Quantitative: Impressions, Spend, Duration\n",
    "# Nominal: CountryCode, Gender, MediaType\n",
    "display(dates.dtypes)"
   ]
  },
  {
   "cell_type": "code",
   "execution_count": 7,
   "metadata": {},
   "outputs": [],
   "source": [
    "result = result[['Impressions', 'StartDate', 'EndDate', 'Spend','Gender', 'CountryCode']]\n",
    "X = result.drop(['Impressions'], axis=1)\n",
    "y = result.Impressions"
   ]
  },
  {
   "cell_type": "code",
   "execution_count": 8,
   "metadata": {},
   "outputs": [
    {
     "name": "stderr",
     "output_type": "stream",
     "text": [
      "/Users/cindy/opt/anaconda3/lib/python3.7/site-packages/sklearn/ensemble/forest.py:245: FutureWarning: The default value of n_estimators will change from 10 in version 0.20 to 100 in 0.22.\n",
      "  \"10 in version 0.20 to 100 in 0.22.\", FutureWarning)\n"
     ]
    },
    {
     "name": "stdout",
     "output_type": "stream",
     "text": [
      "r-squared: 0.7232651253887366\n",
      "rmse: 39124.10844260513\n"
     ]
    }
   ],
   "source": [
    "types = X.dtypes\n",
    "catcols = types.loc[types == np.object].index\n",
    "numcols = types.loc[types != np.object].index\n",
    "\n",
    "cats = Pipeline([\n",
    "    ('imp', SimpleImputer(strategy='constant', fill_value='NULL')),\n",
    "    ('ohe', OneHotEncoder(handle_unknown='ignore', sparse=False)),\n",
    "    ('pca', PCA(svd_solver='full', n_components=0.99))\n",
    "])\n",
    "\n",
    "ct = ColumnTransformer([\n",
    "    ('catcols', cats, catcols),\n",
    "    ('numcols', SimpleImputer(strategy='constant', fill_value=0), numcols)\n",
    "])\n",
    "\n",
    "pl2 = Pipeline([('feats', ct), ('reg', RandomForestRegressor())])\n",
    "\n",
    "X_tr, X_ts, y_tr, y_ts = train_test_split(X, y, test_size=0.25)\n",
    "pl2.fit(X_tr, y_tr)\n",
    "rsquared = pl2.score(X_ts, y_ts)\n",
    "print(\"r-squared: \" + str(rsquared))\n",
    "preds = pl2.predict(X_ts)\n",
    "rmse = np.sqrt(np.mean(preds - y_ts)**2)\n",
    "print(\"rmse: \" + str(rmse))\n"
   ]
  },
  {
   "cell_type": "code",
   "execution_count": 9,
   "metadata": {},
   "outputs": [],
   "source": [
    "#New feature: Duration \n",
    "result['Duration'] = abs(dates['EndDate'] - dates['StartDate'])\n",
    "result[\"Duration\"] = round(result['Duration'].apply(lambda x: x.days * 24 + x.seconds // 3600))"
   ]
  },
  {
   "cell_type": "code",
   "execution_count": 10,
   "metadata": {},
   "outputs": [
    {
     "name": "stderr",
     "output_type": "stream",
     "text": [
      "/Users/cindy/opt/anaconda3/lib/python3.7/site-packages/sklearn/ensemble/forest.py:245: FutureWarning: The default value of n_estimators will change from 10 in version 0.20 to 100 in 0.22.\n",
      "  \"10 in version 0.20 to 100 in 0.22.\", FutureWarning)\n"
     ]
    },
    {
     "name": "stdout",
     "output_type": "stream",
     "text": [
      "r-squared: 0.4788719291689334\n",
      "rmse: 67734.91486661453\n"
     ]
    }
   ],
   "source": [
    "result = result[['Impressions', 'StartDate', 'EndDate', 'Duration', 'Spend','Gender', 'CountryCode']]\n",
    "types = X.dtypes\n",
    "catcols = types.loc[types == np.object].index\n",
    "numcols = types.loc[types != np.object].index\n",
    "\n",
    "cats = Pipeline([\n",
    "    ('imp', SimpleImputer(strategy='constant', fill_value='NULL')),\n",
    "    ('ohe', OneHotEncoder(handle_unknown='ignore', sparse=False)),\n",
    "    ('pca', PCA(svd_solver='full', n_components=0.99))\n",
    "])\n",
    "\n",
    "ct = ColumnTransformer([\n",
    "    ('catcols', cats, catcols),\n",
    "    ('numcols', SimpleImputer(strategy='constant', fill_value=0), numcols)\n",
    "])\n",
    "\n",
    "pl2 = Pipeline([('feats', ct), ('reg', RandomForestRegressor())])\n",
    "\n",
    "X_tr, X_ts, y_tr, y_ts = train_test_split(X, y, test_size=0.25)\n",
    "pl2.fit(X_tr, y_tr)\n",
    "rsquared = pl2.score(X_ts, y_ts)\n",
    "print(\"r-squared: \" + str(rsquared))\n",
    "preds = pl2.predict(X_ts)\n",
    "rmse = np.sqrt(np.mean(preds - y_ts)**2)\n",
    "print(\"rmse: \" + str(rmse))"
   ]
  },
  {
   "cell_type": "code",
   "execution_count": 11,
   "metadata": {},
   "outputs": [
    {
     "data": {
      "text/plain": [
       "<matplotlib.axes._subplots.AxesSubplot at 0x1a22de5890>"
      ]
     },
     "execution_count": 11,
     "metadata": {},
     "output_type": "execute_result"
    },
    {
     "data": {
      "image/png": "[encoded data removed]",
      "text/plain": [
       "<Figure size 1800x360 with 1 Axes>"
      ]
     },
     "metadata": {
      "image/png": {
       "height": 302,
       "width": 1471
      },
      "needs_background": "light"
     },
     "output_type": "display_data"
    }
   ],
   "source": [
    "result[\"Spend\"].plot(kind='hist', bins=85,figsize=(25,5), xlim=(0,20000))\n",
    "#We can tell that $1000 is where a majority of the ad spending is concentrated on- we decided to make the cutoff\n",
    "#for high and low spending to be at 1000. "
   ]
  },
  {
   "cell_type": "code",
   "execution_count": 12,
   "metadata": {},
   "outputs": [],
   "source": [
    "#New feature: High or low spending \n",
    "result['spending_brackets'] = (result.Spend <= 1000).replace({True:'Low', False:'High'})"
   ]
  },
  {
   "cell_type": "code",
   "execution_count": 13,
   "metadata": {},
   "outputs": [
    {
     "name": "stderr",
     "output_type": "stream",
     "text": [
      "/Users/cindy/opt/anaconda3/lib/python3.7/site-packages/sklearn/ensemble/forest.py:245: FutureWarning: The default value of n_estimators will change from 10 in version 0.20 to 100 in 0.22.\n",
      "  \"10 in version 0.20 to 100 in 0.22.\", FutureWarning)\n"
     ]
    },
    {
     "name": "stdout",
     "output_type": "stream",
     "text": [
      "r-squared: 0.7281121263573613\n",
      "rmse: 102496.7442444386\n"
     ]
    }
   ],
   "source": [
    "result = result[['Impressions', 'StartDate', 'EndDate', 'spending_brackets', 'Spend','Gender', 'CountryCode']]\n",
    "types = X.dtypes\n",
    "catcols = types.loc[types == np.object].index\n",
    "numcols = types.loc[types != np.object].index\n",
    "\n",
    "cats = Pipeline([\n",
    "    ('imp', SimpleImputer(strategy='constant', fill_value='NULL')),\n",
    "    ('ohe', OneHotEncoder(handle_unknown='ignore', sparse=False)),\n",
    "    ('pca', PCA(svd_solver='full', n_components=0.99))\n",
    "])\n",
    "\n",
    "ct = ColumnTransformer([\n",
    "    ('catcols', cats, catcols),\n",
    "    ('numcols', SimpleImputer(strategy='constant', fill_value=0), numcols)\n",
    "])\n",
    "\n",
    "pl2 = Pipeline([('feats', ct), ('reg', RandomForestRegressor())])\n",
    "\n",
    "X_tr, X_ts, y_tr, y_ts = train_test_split(X, y, test_size=0.25)\n",
    "pl2.fit(X_tr, y_tr)\n",
    "rsquared = pl2.score(X_ts, y_ts)\n",
    "print(\"r-squared: \" + str(rsquared))\n",
    "preds = pl2.predict(X_ts)\n",
    "rmse = np.sqrt(np.mean(preds - y_ts)**2)\n",
    "print(\"rmse: \" + str(rmse))"
   ]
  },
  {
   "cell_type": "code",
   "execution_count": 14,
   "metadata": {},
   "outputs": [],
   "source": [
    "#New feature: Duration \n",
    "result['Duration'] = abs(dates['EndDate'] - dates['StartDate'])\n",
    "result[\"Duration\"] = round(result['Duration'].apply(lambda x: x.days * 24 + x.seconds // 3600))\n",
    "#New feature: Media Type\n",
    "result['spending_brackets'] = (result.Spend <= 1000).replace({True:'Low', False:'High'})"
   ]
  },
  {
   "cell_type": "code",
   "execution_count": 15,
   "metadata": {},
   "outputs": [
    {
     "name": "stderr",
     "output_type": "stream",
     "text": [
      "/Users/cindy/opt/anaconda3/lib/python3.7/site-packages/sklearn/ensemble/forest.py:245: FutureWarning: The default value of n_estimators will change from 10 in version 0.20 to 100 in 0.22.\n",
      "  \"10 in version 0.20 to 100 in 0.22.\", FutureWarning)\n"
     ]
    },
    {
     "name": "stdout",
     "output_type": "stream",
     "text": [
      "r-squared: 0.6461642266311605\n",
      "rmse: 8876.238029052245\n"
     ]
    }
   ],
   "source": [
    "result = result[['Impressions', 'StartDate', 'EndDate', 'Duration', 'spending_brackets', 'Spend','Gender', 'CountryCode']]\n",
    "types = X.dtypes\n",
    "catcols = types.loc[types == np.object].index\n",
    "numcols = types.loc[types != np.object].index\n",
    "\n",
    "cats = Pipeline([\n",
    "    ('imp', SimpleImputer(strategy='constant', fill_value='NULL')),\n",
    "    ('ohe', OneHotEncoder(handle_unknown='ignore', sparse=False)),\n",
    "    ('pca', PCA(svd_solver='full', n_components=0.99))\n",
    "])\n",
    "\n",
    "ct = ColumnTransformer([\n",
    "    ('catcols', cats, catcols),\n",
    "    ('numcols', SimpleImputer(strategy='constant', fill_value=0), numcols)\n",
    "])\n",
    "\n",
    "pl2 = Pipeline([('feats', ct), ('reg', RandomForestRegressor())])\n",
    "\n",
    "X_tr, X_ts, y_tr, y_ts = train_test_split(X, y, test_size=0.25)\n",
    "pl2.fit(X_tr, y_tr)\n",
    "rsquared = pl2.score(X_ts, y_ts)\n",
    "print(\"r-squared: \" + str(rsquared))\n",
    "preds = pl2.predict(X_ts)\n",
    "rmse = np.sqrt(np.mean(preds - y_ts)**2)\n",
    "print(\"rmse: \" + str(rmse))\n"
   ]
  },
  {
   "cell_type": "markdown",
   "metadata": {},
   "source": [
    "### Fairness Evaluation"
   ]
  },
  {
   "cell_type": "markdown",
   "metadata": {},
   "source": [
    "#### Finding threshold for categorizing impressions as high or low reach"
   ]
  },
  {
   "cell_type": "code",
   "execution_count": 1,
   "metadata": {},
   "outputs": [
    {
     "ename": "NameError",
     "evalue": "name 'result' is not defined",
     "output_type": "error",
     "traceback": [
      "\u001b[0;31m---------------------------------------------------------------------------\u001b[0m",
      "\u001b[0;31mNameError\u001b[0m                                 Traceback (most recent call last)",
      "\u001b[0;32m<ipython-input-1-6b302190f4c1>\u001b[0m in \u001b[0;36m<module>\u001b[0;34m\u001b[0m\n\u001b[0;32m----> 1\u001b[0;31m \u001b[0mx\u001b[0m \u001b[0;34m=\u001b[0m \u001b[0mresult\u001b[0m\u001b[0;34m[\u001b[0m\u001b[0;34m\"Impressions\"\u001b[0m\u001b[0;34m]\u001b[0m\u001b[0;34m.\u001b[0m\u001b[0mplot\u001b[0m\u001b[0;34m(\u001b[0m\u001b[0mkind\u001b[0m\u001b[0;34m=\u001b[0m\u001b[0;34m\"hist\"\u001b[0m\u001b[0;34m,\u001b[0m \u001b[0mfigsize\u001b[0m\u001b[0;34m=\u001b[0m\u001b[0;34m(\u001b[0m\u001b[0;36m10\u001b[0m\u001b[0;34m,\u001b[0m\u001b[0;36m5\u001b[0m\u001b[0;34m)\u001b[0m\u001b[0;34m,\u001b[0m \u001b[0mbins\u001b[0m\u001b[0;34m=\u001b[0m\u001b[0;36m10\u001b[0m\u001b[0;34m,\u001b[0m \u001b[0mxlim\u001b[0m\u001b[0;34m=\u001b[0m\u001b[0;34m(\u001b[0m\u001b[0;36m0\u001b[0m\u001b[0;34m,\u001b[0m \u001b[0mresult\u001b[0m\u001b[0;34m[\u001b[0m\u001b[0;34m\"Impressions\"\u001b[0m\u001b[0;34m]\u001b[0m\u001b[0;34m.\u001b[0m\u001b[0mmax\u001b[0m\u001b[0;34m(\u001b[0m\u001b[0;34m)\u001b[0m\u001b[0;34m)\u001b[0m\u001b[0;34m)\u001b[0m\u001b[0;34m\u001b[0m\u001b[0;34m\u001b[0m\u001b[0m\n\u001b[0m\u001b[1;32m      2\u001b[0m \u001b[0mplt\u001b[0m\u001b[0;34m.\u001b[0m\u001b[0mtitle\u001b[0m\u001b[0;34m(\u001b[0m\u001b[0;34m'Frequency of Impressions Amount'\u001b[0m\u001b[0;34m)\u001b[0m\u001b[0;34m\u001b[0m\u001b[0;34m\u001b[0m\u001b[0m\n\u001b[1;32m      3\u001b[0m \u001b[0mplt\u001b[0m\u001b[0;34m.\u001b[0m\u001b[0mxlabel\u001b[0m\u001b[0;34m(\u001b[0m\u001b[0;34m'Impressions'\u001b[0m\u001b[0;34m)\u001b[0m\u001b[0;34m\u001b[0m\u001b[0;34m\u001b[0m\u001b[0m\n",
      "\u001b[0;31mNameError\u001b[0m: name 'result' is not defined"
     ]
    }
   ],
   "source": [
    "x = result[\"Impressions\"].plot(kind=\"hist\", figsize=(10,5), bins=10, xlim=(0, result[\"Impressions\"].max()))\n",
    "plt.title('Frequency of Impressions Amount')\n",
    "plt.xlabel('Impressions')"
   ]
  },
  {
   "cell_type": "markdown",
   "metadata": {},
   "source": [
    "After graphing this, we noticed that there is a huge difference in this sharp contrast of impressions. So from there, we looked at the data and saw that there was a sharp contrast between the first bin and second bin. There, we made a estimate that 3130994.5 was the cutoff for low/high reach. 3130994.5 would be the first value that would be classified as a 'high' reach."
   ]
  },
  {
   "cell_type": "markdown",
   "metadata": {},
   "source": [
    "#### Permutation Testing"
   ]
  },
  {
   "cell_type": "markdown",
   "metadata": {},
   "source": [
    "Null hypothesis: Our final model predicts high and low impressions at an equal accuracy.\n",
    "\n",
    "Alternative hypothesis: Our final model predicts low impressions better than high impressions.\n",
    "\n",
    "To test our null hypothesis we will be using RMSE as the test statistic and we will set our significance value to 0.05."
   ]
  },
  {
   "cell_type": "code",
   "execution_count": 18,
   "metadata": {},
   "outputs": [
    {
     "data": {
      "text/plain": [
       "0.0"
      ]
     },
     "execution_count": 18,
     "metadata": {},
     "output_type": "execute_result"
    }
   ],
   "source": [
    "low_list = []\n",
    "high_list = []\n",
    "\n",
    "for i in range(100):\n",
    "    X_tr, X_ts, y_tr, y_ts = train_test_split(X, y, test_size=0.25)\n",
    "    pl2.fit(X_tr, y_tr)\n",
    "    preds = pl2.predict(X_ts)\n",
    "\n",
    "    results = pd.DataFrame()\n",
    "\n",
    "    results[\"Observed\"] = y_ts\n",
    "    results[\"Prediction\"] = preds\n",
    "    results['High_or_Low'] = (results.Observed <= 3130994.5).replace({True:'Low', False:'High'})\n",
    "    results = results[[\"High_or_Low\", \"Observed\", \"Prediction\"]]\n",
    "\n",
    "    high_df = results[results[\"High_or_Low\"] == \"High\"]\n",
    "    high_rmse = np.sqrt(np.mean(high_df[\"Prediction\"] - high_df[\"Observed\"])**2)\n",
    "    high_list.append(high_rmse)\n",
    "\n",
    "    low_df = results[results[\"High_or_Low\"] == \"Low\"]\n",
    "    low_rmse = np.sqrt(np.mean(low_df[\"Prediction\"] - low_df[\"Observed\"])**2)\n",
    "    low_list.append(low_rmse)\n",
    "\n",
    "p-value = np.count_nonzero(low_list >= high_list) / 100 # count how many times the low list does better than the high"
   ]
  },
  {
   "cell_type": "markdown",
   "metadata": {},
   "source": [
    "Our p-value is 0, which means that in 100 trials, the model is predicting better low impressions than it is high impressions in all trials. Therefore, we reject our null hypothesis and our model may not be fair and is favorable towards predicting low impressions."
   ]
  },
  {
   "cell_type": "code",
   "execution_count": null,
   "metadata": {},
   "outputs": [],
   "source": []
  }
 ],
 "metadata": {
  "kernelspec": {
   "display_name": "Python 3",
   "language": "python",
   "name": "python3"
  },
  "language_info": {
   "codemirror_mode": {
    "name": "ipython",
    "version": 3
   },
   "file_extension": ".py",
   "mimetype": "text/x-python",
   "name": "python",
   "nbconvert_exporter": "python",
   "pygments_lexer": "ipython3",
   "version": "3.7.4"
  }
 },
 "nbformat": 4,
 "nbformat_minor": 2
}
