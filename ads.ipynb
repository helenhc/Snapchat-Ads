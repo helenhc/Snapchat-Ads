{
 "cells": [
  {
   "cell_type": "markdown",
   "metadata": {},
   "source": [
    "# Snapchat Political Ads\n",
    "* **See the main project notebook for instructions to be sure you satisfy the rubric!**\n",
    "* See Project 03 for information on the dataset.\n",
    "* A few example prediction questions to pursue are listed below. However, don't limit yourself to them!\n",
    "    * Predict the reach (number of views) of an ad.\n",
    "    * Predict how much was spent on an ad.\n",
    "    * Predict the target group of an ad. (For example, predict the target gender.)\n",
    "    * Predict the (type of) organization/advertiser behind an ad.\n",
    "\n",
    "Be careful to justify what information you would know at the \"time of prediction\" and train your model using only those features."
   ]
  },
  {
   "cell_type": "markdown",
   "metadata": {},
   "source": [
    "# Summary of Findings\n",
    "\n",
    "\n",
    "### Introduction\n",
    "TODO\n",
    "\n",
    "### Baseline Model\n",
    "TODO\n",
    "\n",
    "### Final Model\n",
    "TODO\n",
    "\n",
    "### Fairness Evaluation\n",
    "TODO"
   ]
  },
  {
   "cell_type": "markdown",
   "metadata": {},
   "source": [
    "# Code"
   ]
  },
  {
   "cell_type": "code",
   "execution_count": 154,
   "metadata": {},
   "outputs": [],
   "source": [
    "import matplotlib.pyplot as plt\n",
    "import numpy as np\n",
    "import os\n",
    "import pandas as pd\n",
    "import seaborn as sns\n",
    "%matplotlib inline\n",
    "%config InlineBackend.figure_format = 'retina'  # Higher resolution figures\n",
    "from sklearn.impute import SimpleImputer\n",
    "from sklearn.decomposition import PCA\n",
    "from sklearn.linear_model import LinearRegression\n",
    "from sklearn.preprocessing import OneHotEncoder\n",
    "from sklearn.pipeline import Pipeline\n",
    "from sklearn.compose import ColumnTransformer\n",
    "from sklearn.preprocessing import FunctionTransformer\n",
    "from sklearn.model_selection import train_test_split\n",
    "from datetime import datetime\n",
    "import re\n",
    "from sklearn import metrics"
   ]
  },
  {
   "cell_type": "code",
   "execution_count": 174,
   "metadata": {},
   "outputs": [],
   "source": [
    "eighteen = pd.read_csv(\"2018.csv\")\n",
    "nineteen = pd.read_csv(\"2019.csv\")\n",
    "result = pd.concat([eighteen, nineteen])\n",
    "result = result.reset_index(drop=True)"
   ]
  },
  {
   "cell_type": "markdown",
   "metadata": {},
   "source": [
    "Prediction: We will try to predict the reach, or the number of views, of an ad. This is a regression problem. "
   ]
  },
  {
   "cell_type": "markdown",
   "metadata": {},
   "source": [
    "### Baseline Model"
   ]
  },
  {
   "cell_type": "code",
   "execution_count": 175,
   "metadata": {},
   "outputs": [],
   "source": [
    "# changing all dates to datetime objects\n",
    "result['StartDate'] = result['StartDate'].str[:-1]\n",
    "result['EndDate'] = result['EndDate'].str[:-1]\n",
    "result['StartDate'] = pd.to_datetime(result['StartDate'])\n",
    "result['EndDate'] = pd.to_datetime(result['EndDate'], errors='coerce')\n"
   ]
  },
  {
   "cell_type": "code",
   "execution_count": 176,
   "metadata": {},
   "outputs": [
    {
     "data": {
      "text/plain": [
       "0        459\n",
       "1        335\n",
       "2        683\n",
       "3        335\n",
       "4        769\n",
       "        ... \n",
       "2184    2214\n",
       "2185    2315\n",
       "2186     263\n",
       "2187    2317\n",
       "2188    6608\n",
       "Name: Duration, Length: 2189, dtype: int64"
      ]
     },
     "execution_count": 176,
     "metadata": {},
     "output_type": "execute_result"
    }
   ],
   "source": [
    "# EndDate                         fill with \"Present\" or current time\n",
    "result['EndDate'] = result['EndDate'].fillna(datetime.utcnow())\n",
    "# Gender                          fill with \"All\"\n",
    "result['Gender'] = result['Gender'].fillna(\"All\")\n",
    "# display(result[['StartDate', 'EndDate']])\n",
    "result['Duration'] = abs(result['EndDate']- result['StartDate'])\n",
    "duration = abs(result['EndDate']- result['StartDate'])\n",
    "result[\"Duration\"] = round(result['Duration'].apply(lambda x: x.days * 24 + x.seconds // 3600))\n",
    "\n",
    "result[\"MediaType\"] = result['CreativeUrl'].str.extract('.+mediaType=([A-z0-9]+)', expand=True)\n",
    "result[\"MediaType\"] = result[\"MediaType\"].str.lower()\n",
    "result[\"MediaType\"] = result[\"MediaType\"].str.replace(\"jpeg\", \"jpg\")\n",
    "# result[\"MediaType\"].value_counts()\n",
    "result = result.drop(\"CreativeUrl\",axis=1)\n",
    "result['Duration']\n",
    "# Quantitative: Impressions, Spend, Duration\n",
    "# Nominal: CountryCode, Gender, MediaType"
   ]
  },
  {
   "cell_type": "code",
   "execution_count": 177,
   "metadata": {},
   "outputs": [],
   "source": [
    "result = result[['Impressions', 'Duration', 'Spend','Gender', 'CountryCode', 'MediaType']]"
   ]
  },
  {
   "cell_type": "code",
   "execution_count": 178,
   "metadata": {},
   "outputs": [],
   "source": [
    "X = result.drop(['Impressions'], axis=1)\n",
    "y = result.Impressions"
   ]
  },
  {
   "cell_type": "code",
   "execution_count": 179,
   "metadata": {},
   "outputs": [
    {
     "data": {
      "text/plain": [
       "-2229915397584.6255"
      ]
     },
     "execution_count": 179,
     "metadata": {},
     "output_type": "execute_result"
    }
   ],
   "source": [
    "# TODO\n",
    "types = X.dtypes\n",
    "catcols = types.loc[types == np.object].index\n",
    "numcols = types.loc[types != np.object].index\n",
    "\n",
    "cats = Pipeline([\n",
    "    ('imp', SimpleImputer(strategy='constant', fill_value='NULL')),\n",
    "    ('ohe', OneHotEncoder(handle_unknown='ignore', sparse=False)),\n",
    "])\n",
    "\n",
    "ct = ColumnTransformer([\n",
    "    ('catcols', cats, catcols),\n",
    "    ('numcols', SimpleImputer(strategy='constant', fill_value=0), numcols)\n",
    "])\n",
    "\n",
    "pl = Pipeline([('feats', ct), ('reg', LinearRegression())])\n",
    "\n",
    "# X_tr, X_ts, y_tr, y_ts = train_test_split(X, y, test_size=0.25)\n",
    "# pl.fit(X_tr, y_tr)\n",
    "# rsquared = pl.score(X_ts, y_ts)\n",
    "# print(\"r-squared: \" + str(rsquared))\n",
    "# preds = pl.predict(X_ts)\n",
    "# rmse = np.sqrt(np.mean(preds - y_ts)**2)\n",
    "# print(\"rmse: \" + str(rmse))\n",
    "out = []\n",
    "for _ in range(100):\n",
    "    X_tr, X_ts, y_tr, y_ts = train_test_split(X, y, test_size=0.25)\n",
    "    pl.fit(X_tr, y_tr)\n",
    "    rsquared = pl.score(X_ts, y_ts)\n",
    "    out.append(rsquared)\n",
    "np.mean(out)"
   ]
  },
  {
   "cell_type": "markdown",
   "metadata": {},
   "source": [
    "### Final Model"
   ]
  },
  {
   "cell_type": "code",
   "execution_count": 180,
   "metadata": {},
   "outputs": [],
   "source": [
    "from sklearn.ensemble import RandomForestRegressor\n",
    "\n",
    "cats = Pipeline([\n",
    "    ('imp', SimpleImputer(strategy='constant', fill_value='NULL')),\n",
    "    ('ohe', OneHotEncoder(handle_unknown='ignore', sparse=False)),\n",
    "    ('pca', PCA(svd_solver='full', n_components=0.99))\n",
    "])\n",
    "\n",
    "ct = ColumnTransformer([\n",
    "    ('catcols', cats, catcols),\n",
    "    ('numcols', SimpleImputer(strategy='constant', fill_value=0), numcols)\n",
    "])\n",
    "\n",
    "pl2 = Pipeline([('feats', ct), ('reg', RandomForestRegressor())])"
   ]
  },
  {
   "cell_type": "code",
   "execution_count": 181,
   "metadata": {},
   "outputs": [
    {
     "name": "stdout",
     "output_type": "stream",
     "text": [
      "r-squared: 0.6922147732083729\n",
      "rmse: 13028.46239659367\n"
     ]
    },
    {
     "name": "stderr",
     "output_type": "stream",
     "text": [
      "/Users/cindy/opt/anaconda3/lib/python3.7/site-packages/sklearn/ensemble/forest.py:245: FutureWarning: The default value of n_estimators will change from 10 in version 0.20 to 100 in 0.22.\n",
      "  \"10 in version 0.20 to 100 in 0.22.\", FutureWarning)\n"
     ]
    }
   ],
   "source": [
    "X_tr, X_ts, y_tr, y_ts = train_test_split(X, y, test_size=0.25)\n",
    "pl2.fit(X_tr, y_tr)\n",
    "rsquared = pl2.score(X_ts, y_ts)\n",
    "print(\"r-squared: \" + str(rsquared))\n",
    "preds = pl2.predict(X_ts)\n",
    "rmse = np.sqrt(np.mean(preds - y_ts)**2)\n",
    "print(\"rmse: \" + str(rmse))\n",
    "# preds"
   ]
  },
  {
   "cell_type": "code",
   "execution_count": 182,
   "metadata": {},
   "outputs": [],
   "source": [
    "out = []\n",
    "for _ in range(100):\n",
    "    X_tr, X_ts, y_tr, y_ts = train_test_split(X, y, test_size=0.25)\n",
    "    pl.fit(X_tr, y_tr)\n",
    "    rsquared = pl.score(X_ts, y_ts)\n",
    "    out.append(rsquared)\n",
    "# out"
   ]
  },
  {
   "cell_type": "code",
   "execution_count": null,
   "metadata": {},
   "outputs": [],
   "source": []
  },
  {
   "cell_type": "markdown",
   "metadata": {},
   "source": [
    "### Fairness Evaluation"
   ]
  },
  {
   "cell_type": "code",
   "execution_count": 183,
   "metadata": {},
   "outputs": [
    {
     "data": {
      "text/plain": [
       "0.6513970256357092"
      ]
     },
     "execution_count": 183,
     "metadata": {},
     "output_type": "execute_result"
    }
   ],
   "source": [
    "# X_tr, X_ts, y_tr, y_ts = train_test_split(X, y, test_size=0.25)\n",
    "# pl2.fit(X_tr, y_tr)\n",
    "# pl2.score(X_ts,y_ts)\n",
    "out = []\n",
    "for _ in range(100):\n",
    "    X_tr, X_ts, y_tr, y_ts = train_test_split(X, y, test_size=0.25)\n",
    "    pl2.fit(X_tr, y_tr)\n",
    "    rsquared = pl2.score(X_ts, y_ts)\n",
    "    out.append(rsquared)\n",
    "np.mean(out)"
   ]
  },
  {
   "cell_type": "markdown",
   "metadata": {},
   "source": [
    "### Permutation Testing"
   ]
  },
  {
   "cell_type": "code",
   "execution_count": 184,
   "metadata": {},
   "outputs": [],
   "source": [
    "#3130994.5 Impressions threshold"
   ]
  },
  {
   "cell_type": "code",
   "execution_count": 185,
   "metadata": {},
   "outputs": [
    {
     "name": "stderr",
     "output_type": "stream",
     "text": [
      "/Users/cindy/opt/anaconda3/lib/python3.7/site-packages/ipykernel_launcher.py:2: SettingWithCopyWarning: \n",
      "A value is trying to be set on a copy of a slice from a DataFrame.\n",
      "Try using .loc[row_indexer,col_indexer] = value instead\n",
      "\n",
      "See the caveats in the documentation: http://pandas.pydata.org/pandas-docs/stable/user_guide/indexing.html#returning-a-view-versus-a-copy\n",
      "  \n",
      "/Users/cindy/opt/anaconda3/lib/python3.7/site-packages/ipykernel_launcher.py:3: SettingWithCopyWarning: \n",
      "A value is trying to be set on a copy of a slice from a DataFrame.\n",
      "Try using .loc[row_indexer,col_indexer] = value instead\n",
      "\n",
      "See the caveats in the documentation: http://pandas.pydata.org/pandas-docs/stable/user_guide/indexing.html#returning-a-view-versus-a-copy\n",
      "  This is separate from the ipykernel package so we can avoid doing imports until\n",
      "/Users/cindy/opt/anaconda3/lib/python3.7/site-packages/ipykernel_launcher.py:5: SettingWithCopyWarning: \n",
      "A value is trying to be set on a copy of a slice from a DataFrame.\n",
      "Try using .loc[row_indexer,col_indexer] = value instead\n",
      "\n",
      "See the caveats in the documentation: http://pandas.pydata.org/pandas-docs/stable/user_guide/indexing.html#returning-a-view-versus-a-copy\n",
      "  \"\"\"\n",
      "/Users/cindy/opt/anaconda3/lib/python3.7/site-packages/ipykernel_launcher.py:6: SettingWithCopyWarning: \n",
      "A value is trying to be set on a copy of a slice from a DataFrame.\n",
      "Try using .loc[row_indexer,col_indexer] = value instead\n",
      "\n",
      "See the caveats in the documentation: http://pandas.pydata.org/pandas-docs/stable/user_guide/indexing.html#returning-a-view-versus-a-copy\n",
      "  \n"
     ]
    },
    {
     "data": {
      "text/html": [
       "<div>\n",
       "<style scoped>\n",
       "    .dataframe tbody tr th:only-of-type {\n",
       "        vertical-align: middle;\n",
       "    }\n",
       "\n",
       "    .dataframe tbody tr th {\n",
       "        vertical-align: top;\n",
       "    }\n",
       "\n",
       "    .dataframe thead th {\n",
       "        text-align: right;\n",
       "    }\n",
       "</style>\n",
       "<table border=\"1\" class=\"dataframe\">\n",
       "  <thead>\n",
       "    <tr style=\"text-align: right;\">\n",
       "      <th></th>\n",
       "      <th>Duration</th>\n",
       "      <th>Spend</th>\n",
       "      <th>Gender</th>\n",
       "      <th>CountryCode</th>\n",
       "      <th>MediaType</th>\n",
       "      <th>prediction</th>\n",
       "      <th>Impressions</th>\n",
       "    </tr>\n",
       "  </thead>\n",
       "  <tbody>\n",
       "    <tr>\n",
       "      <td>879</td>\n",
       "      <td>527</td>\n",
       "      <td>9</td>\n",
       "      <td>All</td>\n",
       "      <td>united states</td>\n",
       "      <td>png</td>\n",
       "      <td>Small</td>\n",
       "      <td>Small</td>\n",
       "    </tr>\n",
       "    <tr>\n",
       "      <td>97</td>\n",
       "      <td>267</td>\n",
       "      <td>11977</td>\n",
       "      <td>All</td>\n",
       "      <td>united states</td>\n",
       "      <td>mp4</td>\n",
       "      <td>Small</td>\n",
       "      <td>Large</td>\n",
       "    </tr>\n",
       "    <tr>\n",
       "      <td>356</td>\n",
       "      <td>1135</td>\n",
       "      <td>26</td>\n",
       "      <td>All</td>\n",
       "      <td>united kingdom</td>\n",
       "      <td>mp4</td>\n",
       "      <td>Small</td>\n",
       "      <td>Small</td>\n",
       "    </tr>\n",
       "    <tr>\n",
       "      <td>1113</td>\n",
       "      <td>11</td>\n",
       "      <td>5</td>\n",
       "      <td>All</td>\n",
       "      <td>united states</td>\n",
       "      <td>png</td>\n",
       "      <td>Small</td>\n",
       "      <td>Small</td>\n",
       "    </tr>\n",
       "    <tr>\n",
       "      <td>868</td>\n",
       "      <td>567</td>\n",
       "      <td>6</td>\n",
       "      <td>All</td>\n",
       "      <td>united states</td>\n",
       "      <td>mp4</td>\n",
       "      <td>Small</td>\n",
       "      <td>Small</td>\n",
       "    </tr>\n",
       "    <tr>\n",
       "      <td>...</td>\n",
       "      <td>...</td>\n",
       "      <td>...</td>\n",
       "      <td>...</td>\n",
       "      <td>...</td>\n",
       "      <td>...</td>\n",
       "      <td>...</td>\n",
       "      <td>...</td>\n",
       "    </tr>\n",
       "    <tr>\n",
       "      <td>552</td>\n",
       "      <td>976</td>\n",
       "      <td>3621</td>\n",
       "      <td>All</td>\n",
       "      <td>united states</td>\n",
       "      <td>mp4</td>\n",
       "      <td>Small</td>\n",
       "      <td>Small</td>\n",
       "    </tr>\n",
       "    <tr>\n",
       "      <td>1626</td>\n",
       "      <td>580</td>\n",
       "      <td>161</td>\n",
       "      <td>All</td>\n",
       "      <td>norway</td>\n",
       "      <td>mp4</td>\n",
       "      <td>Small</td>\n",
       "      <td>Small</td>\n",
       "    </tr>\n",
       "    <tr>\n",
       "      <td>570</td>\n",
       "      <td>10246</td>\n",
       "      <td>228</td>\n",
       "      <td>All</td>\n",
       "      <td>united states</td>\n",
       "      <td>mp4</td>\n",
       "      <td>Small</td>\n",
       "      <td>Small</td>\n",
       "    </tr>\n",
       "    <tr>\n",
       "      <td>1816</td>\n",
       "      <td>3710</td>\n",
       "      <td>3351</td>\n",
       "      <td>MALE</td>\n",
       "      <td>united states</td>\n",
       "      <td>mp4</td>\n",
       "      <td>Small</td>\n",
       "      <td>Small</td>\n",
       "    </tr>\n",
       "    <tr>\n",
       "      <td>1842</td>\n",
       "      <td>489</td>\n",
       "      <td>1366</td>\n",
       "      <td>FEMALE</td>\n",
       "      <td>denmark</td>\n",
       "      <td>mp4</td>\n",
       "      <td>Small</td>\n",
       "      <td>Small</td>\n",
       "    </tr>\n",
       "  </tbody>\n",
       "</table>\n",
       "<p>548 rows × 7 columns</p>\n",
       "</div>"
      ],
      "text/plain": [
       "      Duration  Spend  Gender     CountryCode MediaType prediction Impressions\n",
       "879        527      9     All   united states       png      Small       Small\n",
       "97         267  11977     All   united states       mp4      Small       Large\n",
       "356       1135     26     All  united kingdom       mp4      Small       Small\n",
       "1113        11      5     All   united states       png      Small       Small\n",
       "868        567      6     All   united states       mp4      Small       Small\n",
       "...        ...    ...     ...             ...       ...        ...         ...\n",
       "552        976   3621     All   united states       mp4      Small       Small\n",
       "1626       580    161     All          norway       mp4      Small       Small\n",
       "570      10246    228     All   united states       mp4      Small       Small\n",
       "1816      3710   3351    MALE   united states       mp4      Small       Small\n",
       "1842       489   1366  FEMALE         denmark       mp4      Small       Small\n",
       "\n",
       "[548 rows x 7 columns]"
      ]
     },
     "execution_count": 185,
     "metadata": {},
     "output_type": "execute_result"
    }
   ],
   "source": [
    "results = X_ts\n",
    "results[\"prediction\"] = preds\n",
    "results['prediction'] = (results.prediction <= 3130994.5).replace({True:'Small', False:'Large'})\n",
    "                        \n",
    "results[\"Impressions\"] = y_ts\n",
    "results['Impressions'] = (results.Impressions <= 3130994.5).replace({True:'Small', False:'Large'})\n",
    "\n",
    "results\n",
    "\n"
   ]
  },
  {
   "cell_type": "code",
   "execution_count": 186,
   "metadata": {},
   "outputs": [
    {
     "name": "stderr",
     "output_type": "stream",
     "text": [
      "/Users/cindy/opt/anaconda3/lib/python3.7/site-packages/ipykernel_launcher.py:2: SettingWithCopyWarning: \n",
      "A value is trying to be set on a copy of a slice from a DataFrame.\n",
      "Try using .loc[row_indexer,col_indexer] = value instead\n",
      "\n",
      "See the caveats in the documentation: http://pandas.pydata.org/pandas-docs/stable/user_guide/indexing.html#returning-a-view-versus-a-copy\n",
      "  \n"
     ]
    }
   ],
   "source": [
    "#12 hours, less than is considered short, more than is consiered long\n",
    "results['duration_cat'] = (results.Duration <= 720).replace({True:'short', False:'long'})\n",
    "# results[\"Duration\"].hist(bins=20)\n"
   ]
  },
  {
   "cell_type": "code",
   "execution_count": 187,
   "metadata": {},
   "outputs": [],
   "source": [
    "obs = results.groupby('duration_cat').apply(lambda x: metrics.accuracy_score(x.Impressions, x.prediction)).diff().iloc[-1]\n",
    "\n",
    "metrs = []\n",
    "for _ in range(100):\n",
    "    s = (\n",
    "        results[['duration_cat', 'prediction', 'Impressions']]\n",
    "        .assign(duration_cat=results.duration_cat.sample(frac=1.0, replace=False).reset_index(drop=True))\n",
    "        .groupby('duration_cat')\n",
    "        .apply(lambda x: metrics.accuracy_score(x.Impressions, x.prediction))\n",
    "        .diff()\n",
    "        .iloc[-1]\n",
    "    )\n",
    "    \n",
    "    metrs.append(s)\n"
   ]
  },
  {
   "cell_type": "code",
   "execution_count": 188,
   "metadata": {},
   "outputs": [
    {
     "name": "stdout",
     "output_type": "stream",
     "text": [
      "0.67\n"
     ]
    },
    {
     "data": {
      "image/png": "[encoded data removed]",
      "text/plain": [
       "<Figure size 432x288 with 1 Axes>"
      ]
     },
     "metadata": {
      "image/png": {
       "height": 263,
       "width": 382
      },
      "needs_background": "light"
     },
     "output_type": "display_data"
    }
   ],
   "source": [
    "print(pd.Series(metrs <= obs).mean())\n",
    "pd.Series(metrs).plot(kind='hist', title='Permutation Test')\n",
    "plt.scatter(obs, 0, c='r');\n"
   ]
  }
 ],
 "metadata": {
  "kernelspec": {
   "display_name": "Python 3",
   "language": "python",
   "name": "python3"
  },
  "language_info": {
   "codemirror_mode": {
    "name": "ipython",
    "version": 3
   },
   "file_extension": ".py",
   "mimetype": "text/x-python",
   "name": "python",
   "nbconvert_exporter": "python",
   "pygments_lexer": "ipython3",
   "version": "3.7.4"
  }
 },
 "nbformat": 4,
 "nbformat_minor": 2
}
